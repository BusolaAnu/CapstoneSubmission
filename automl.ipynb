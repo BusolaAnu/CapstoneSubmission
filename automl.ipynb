{
 "cells": [
  {
   "cell_type": "markdown",
   "metadata": {},
   "source": [
    "# Automated ML\n",
    "\n",
    "TODO: Import Dependencies. In the cell below, import all the dependencies that you will need to complete the project."
   ]
  },
  {
   "cell_type": "code",
   "execution_count": 2,
   "metadata": {
    "gather": {
     "logged": 1598423888013
    },
    "jupyter": {
     "outputs_hidden": false,
     "source_hidden": false
    },
    "nteract": {
     "transient": {
      "deleting": false
     }
    }
   },
   "outputs": [],
   "source": [
    "from azureml.core import Workspace, Experiment\n",
    "from azureml.data.dataset_factory import TabularDatasetFactory"
   ]
  },
  {
   "cell_type": "code",
   "execution_count": 3,
   "metadata": {},
   "outputs": [],
   "source": [
    "ws = Workspace.from_config()"
   ]
  },
  {
   "cell_type": "markdown",
   "metadata": {},
   "source": [
    "## Dataset\n",
    "\n",
    "### Overview\n",
    "TODO: In this markdown cell, give an overview of the dataset you are using. Also mention the task you will be performing.\n",
    "\n",
    "\n",
    "TODO: Get data. In the cell below, write code to access the data you will be using in this project. Remember that the dataset needs to be external."
   ]
  },
  {
   "cell_type": "code",
   "execution_count": 4,
   "metadata": {},
   "outputs": [],
   "source": [
    "url = 'https://github.com/BusolaAnu/CapstoneProject/raw/main/heart_failure_clinical_records_dataset.csv'\n",
    "df = TabularDatasetFactory.from_delimited_files(url)\n",
    "dataset = df.to_pandas_dataframe()"
   ]
  },
  {
   "cell_type": "code",
   "execution_count": 16,
   "metadata": {},
   "outputs": [],
   "source": [
    "experiment_name = 'CapstoneProject'\n",
    "\n",
    "experiment=Experiment(ws, experiment_name)"
   ]
  },
  {
   "cell_type": "code",
   "execution_count": 8,
   "metadata": {},
   "outputs": [],
   "source": [
    "env = Environment.get(workspace = ws, name = \"AzureML-Tutorial\")"
   ]
  },
  {
   "cell_type": "code",
   "execution_count": 9,
   "metadata": {},
   "outputs": [
    {
     "ename": "NameError",
     "evalue": "name 'experiment' is not defined",
     "output_type": "error",
     "traceback": [
      "\u001b[0;31m---------------------------------------------------------------------------\u001b[0m",
      "\u001b[0;31mNameError\u001b[0m                                 Traceback (most recent call last)",
      "\u001b[0;32m<ipython-input-9-d3d05d0f6dfe>\u001b[0m in \u001b[0;36m<module>\u001b[0;34m\u001b[0m\n\u001b[0;32m----> 1\u001b[0;31m \u001b[0mrun\u001b[0m \u001b[0;34m=\u001b[0m \u001b[0mexperiment\u001b[0m\u001b[0;34m.\u001b[0m\u001b[0mstart_logging\u001b[0m\u001b[0;34m(\u001b[0m\u001b[0;34m)\u001b[0m\u001b[0;34m\u001b[0m\u001b[0;34m\u001b[0m\u001b[0m\n\u001b[0m",
      "\u001b[0;31mNameError\u001b[0m: name 'experiment' is not defined"
     ]
    }
   ],
   "source": [
    "run = experiment.start_logging()"
   ]
  },
  {
   "cell_type": "code",
   "execution_count": 10,
   "metadata": {},
   "outputs": [
    {
     "name": "stdout",
     "output_type": "stream",
     "text": [
      "Found existing cluster\n",
      "Succeeded\n",
      "AmlCompute wait for completion finished\n",
      "\n",
      "Minimum number of nodes requested have been provisioned\n"
     ]
    }
   ],
   "source": [
    "from azureml.core.compute import ComputeTarget, AmlCompute\n",
    "from azureml.core.compute_target import ComputeTargetException\n",
    "\n",
    "# Choose a name for your CPU cluster\n",
    "cpu_cluster_name = \"UdacityProject\"\n",
    "\n",
    "# Verify that cluster does not exist already\n",
    "try:\n",
    "    cpu_cluster = ComputeTarget(workspace=ws, name=cpu_cluster_name)\n",
    "    print('Found existing cluster')\n",
    "except ComputeTargetException:\n",
    "    compute_config = AmlCompute.provisioning_configuration(vm_size='STANDARD_D2_V2',\n",
    "                                                           max_nodes=4)\n",
    "    cpu_cluster = ComputeTarget.create(ws, cpu_cluster_name, compute_config)\n",
    "\n",
    "cpu_cluster.wait_for_completion(show_output=True)"
   ]
  },
  {
   "cell_type": "code",
   "execution_count": 11,
   "metadata": {},
   "outputs": [
    {
     "data": {
      "text/html": [
       "<div>\n",
       "<style scoped>\n",
       "    .dataframe tbody tr th:only-of-type {\n",
       "        vertical-align: middle;\n",
       "    }\n",
       "\n",
       "    .dataframe tbody tr th {\n",
       "        vertical-align: top;\n",
       "    }\n",
       "\n",
       "    .dataframe thead th {\n",
       "        text-align: right;\n",
       "    }\n",
       "</style>\n",
       "<table border=\"1\" class=\"dataframe\">\n",
       "  <thead>\n",
       "    <tr style=\"text-align: right;\">\n",
       "      <th></th>\n",
       "      <th>age</th>\n",
       "      <th>anaemia</th>\n",
       "      <th>creatinine_phosphokinase</th>\n",
       "      <th>diabetes</th>\n",
       "      <th>ejection_fraction</th>\n",
       "      <th>high_blood_pressure</th>\n",
       "      <th>platelets</th>\n",
       "      <th>serum_creatinine</th>\n",
       "      <th>serum_sodium</th>\n",
       "      <th>sex</th>\n",
       "      <th>smoking</th>\n",
       "      <th>time</th>\n",
       "      <th>DEATH_EVENT</th>\n",
       "    </tr>\n",
       "  </thead>\n",
       "  <tbody>\n",
       "    <tr>\n",
       "      <th>0</th>\n",
       "      <td>75.0</td>\n",
       "      <td>0</td>\n",
       "      <td>582</td>\n",
       "      <td>0</td>\n",
       "      <td>20</td>\n",
       "      <td>1</td>\n",
       "      <td>265000.00</td>\n",
       "      <td>1.9</td>\n",
       "      <td>130</td>\n",
       "      <td>1</td>\n",
       "      <td>0</td>\n",
       "      <td>4</td>\n",
       "      <td>1</td>\n",
       "    </tr>\n",
       "    <tr>\n",
       "      <th>1</th>\n",
       "      <td>55.0</td>\n",
       "      <td>0</td>\n",
       "      <td>7861</td>\n",
       "      <td>0</td>\n",
       "      <td>38</td>\n",
       "      <td>0</td>\n",
       "      <td>263358.03</td>\n",
       "      <td>1.1</td>\n",
       "      <td>136</td>\n",
       "      <td>1</td>\n",
       "      <td>0</td>\n",
       "      <td>6</td>\n",
       "      <td>1</td>\n",
       "    </tr>\n",
       "    <tr>\n",
       "      <th>2</th>\n",
       "      <td>65.0</td>\n",
       "      <td>0</td>\n",
       "      <td>146</td>\n",
       "      <td>0</td>\n",
       "      <td>20</td>\n",
       "      <td>0</td>\n",
       "      <td>162000.00</td>\n",
       "      <td>1.3</td>\n",
       "      <td>129</td>\n",
       "      <td>1</td>\n",
       "      <td>1</td>\n",
       "      <td>7</td>\n",
       "      <td>1</td>\n",
       "    </tr>\n",
       "    <tr>\n",
       "      <th>3</th>\n",
       "      <td>50.0</td>\n",
       "      <td>1</td>\n",
       "      <td>111</td>\n",
       "      <td>0</td>\n",
       "      <td>20</td>\n",
       "      <td>0</td>\n",
       "      <td>210000.00</td>\n",
       "      <td>1.9</td>\n",
       "      <td>137</td>\n",
       "      <td>1</td>\n",
       "      <td>0</td>\n",
       "      <td>7</td>\n",
       "      <td>1</td>\n",
       "    </tr>\n",
       "    <tr>\n",
       "      <th>4</th>\n",
       "      <td>65.0</td>\n",
       "      <td>1</td>\n",
       "      <td>160</td>\n",
       "      <td>1</td>\n",
       "      <td>20</td>\n",
       "      <td>0</td>\n",
       "      <td>327000.00</td>\n",
       "      <td>2.7</td>\n",
       "      <td>116</td>\n",
       "      <td>0</td>\n",
       "      <td>0</td>\n",
       "      <td>8</td>\n",
       "      <td>1</td>\n",
       "    </tr>\n",
       "  </tbody>\n",
       "</table>\n",
       "</div>"
      ],
      "text/plain": [
       "    age  anaemia  creatinine_phosphokinase  diabetes  ejection_fraction  \\\n",
       "0  75.0        0                       582         0                 20   \n",
       "1  55.0        0                      7861         0                 38   \n",
       "2  65.0        0                       146         0                 20   \n",
       "3  50.0        1                       111         0                 20   \n",
       "4  65.0        1                       160         1                 20   \n",
       "\n",
       "   high_blood_pressure  platelets  serum_creatinine  serum_sodium  sex  \\\n",
       "0                    1  265000.00               1.9           130    1   \n",
       "1                    0  263358.03               1.1           136    1   \n",
       "2                    0  162000.00               1.3           129    1   \n",
       "3                    0  210000.00               1.9           137    1   \n",
       "4                    0  327000.00               2.7           116    0   \n",
       "\n",
       "   smoking  time  DEATH_EVENT  \n",
       "0        0     4            1  \n",
       "1        0     6            1  \n",
       "2        1     7            1  \n",
       "3        0     7            1  \n",
       "4        0     8            1  "
      ]
     },
     "execution_count": 11,
     "metadata": {},
     "output_type": "execute_result"
    }
   ],
   "source": [
    "dataset.head()"
   ]
  },
  {
   "cell_type": "code",
   "execution_count": 12,
   "metadata": {},
   "outputs": [
    {
     "data": {
      "text/html": [
       "<div>\n",
       "<style scoped>\n",
       "    .dataframe tbody tr th:only-of-type {\n",
       "        vertical-align: middle;\n",
       "    }\n",
       "\n",
       "    .dataframe tbody tr th {\n",
       "        vertical-align: top;\n",
       "    }\n",
       "\n",
       "    .dataframe thead th {\n",
       "        text-align: right;\n",
       "    }\n",
       "</style>\n",
       "<table border=\"1\" class=\"dataframe\">\n",
       "  <thead>\n",
       "    <tr style=\"text-align: right;\">\n",
       "      <th></th>\n",
       "      <th>age</th>\n",
       "      <th>anaemia</th>\n",
       "      <th>creatinine_phosphokinase</th>\n",
       "      <th>diabetes</th>\n",
       "      <th>ejection_fraction</th>\n",
       "      <th>high_blood_pressure</th>\n",
       "      <th>platelets</th>\n",
       "      <th>serum_creatinine</th>\n",
       "      <th>serum_sodium</th>\n",
       "      <th>sex</th>\n",
       "      <th>smoking</th>\n",
       "      <th>time</th>\n",
       "      <th>DEATH_EVENT</th>\n",
       "    </tr>\n",
       "  </thead>\n",
       "  <tbody>\n",
       "    <tr>\n",
       "      <th>count</th>\n",
       "      <td>299.000000</td>\n",
       "      <td>299.000000</td>\n",
       "      <td>299.000000</td>\n",
       "      <td>299.000000</td>\n",
       "      <td>299.000000</td>\n",
       "      <td>299.000000</td>\n",
       "      <td>299.000000</td>\n",
       "      <td>299.00000</td>\n",
       "      <td>299.000000</td>\n",
       "      <td>299.000000</td>\n",
       "      <td>299.00000</td>\n",
       "      <td>299.000000</td>\n",
       "      <td>299.00000</td>\n",
       "    </tr>\n",
       "    <tr>\n",
       "      <th>mean</th>\n",
       "      <td>60.833893</td>\n",
       "      <td>0.431438</td>\n",
       "      <td>581.839465</td>\n",
       "      <td>0.418060</td>\n",
       "      <td>38.083612</td>\n",
       "      <td>0.351171</td>\n",
       "      <td>263358.029264</td>\n",
       "      <td>1.39388</td>\n",
       "      <td>136.625418</td>\n",
       "      <td>0.648829</td>\n",
       "      <td>0.32107</td>\n",
       "      <td>130.260870</td>\n",
       "      <td>0.32107</td>\n",
       "    </tr>\n",
       "    <tr>\n",
       "      <th>std</th>\n",
       "      <td>11.894809</td>\n",
       "      <td>0.496107</td>\n",
       "      <td>970.287881</td>\n",
       "      <td>0.494067</td>\n",
       "      <td>11.834841</td>\n",
       "      <td>0.478136</td>\n",
       "      <td>97804.236869</td>\n",
       "      <td>1.03451</td>\n",
       "      <td>4.412477</td>\n",
       "      <td>0.478136</td>\n",
       "      <td>0.46767</td>\n",
       "      <td>77.614208</td>\n",
       "      <td>0.46767</td>\n",
       "    </tr>\n",
       "    <tr>\n",
       "      <th>min</th>\n",
       "      <td>40.000000</td>\n",
       "      <td>0.000000</td>\n",
       "      <td>23.000000</td>\n",
       "      <td>0.000000</td>\n",
       "      <td>14.000000</td>\n",
       "      <td>0.000000</td>\n",
       "      <td>25100.000000</td>\n",
       "      <td>0.50000</td>\n",
       "      <td>113.000000</td>\n",
       "      <td>0.000000</td>\n",
       "      <td>0.00000</td>\n",
       "      <td>4.000000</td>\n",
       "      <td>0.00000</td>\n",
       "    </tr>\n",
       "    <tr>\n",
       "      <th>25%</th>\n",
       "      <td>51.000000</td>\n",
       "      <td>0.000000</td>\n",
       "      <td>116.500000</td>\n",
       "      <td>0.000000</td>\n",
       "      <td>30.000000</td>\n",
       "      <td>0.000000</td>\n",
       "      <td>212500.000000</td>\n",
       "      <td>0.90000</td>\n",
       "      <td>134.000000</td>\n",
       "      <td>0.000000</td>\n",
       "      <td>0.00000</td>\n",
       "      <td>73.000000</td>\n",
       "      <td>0.00000</td>\n",
       "    </tr>\n",
       "    <tr>\n",
       "      <th>50%</th>\n",
       "      <td>60.000000</td>\n",
       "      <td>0.000000</td>\n",
       "      <td>250.000000</td>\n",
       "      <td>0.000000</td>\n",
       "      <td>38.000000</td>\n",
       "      <td>0.000000</td>\n",
       "      <td>262000.000000</td>\n",
       "      <td>1.10000</td>\n",
       "      <td>137.000000</td>\n",
       "      <td>1.000000</td>\n",
       "      <td>0.00000</td>\n",
       "      <td>115.000000</td>\n",
       "      <td>0.00000</td>\n",
       "    </tr>\n",
       "    <tr>\n",
       "      <th>75%</th>\n",
       "      <td>70.000000</td>\n",
       "      <td>1.000000</td>\n",
       "      <td>582.000000</td>\n",
       "      <td>1.000000</td>\n",
       "      <td>45.000000</td>\n",
       "      <td>1.000000</td>\n",
       "      <td>303500.000000</td>\n",
       "      <td>1.40000</td>\n",
       "      <td>140.000000</td>\n",
       "      <td>1.000000</td>\n",
       "      <td>1.00000</td>\n",
       "      <td>203.000000</td>\n",
       "      <td>1.00000</td>\n",
       "    </tr>\n",
       "    <tr>\n",
       "      <th>max</th>\n",
       "      <td>95.000000</td>\n",
       "      <td>1.000000</td>\n",
       "      <td>7861.000000</td>\n",
       "      <td>1.000000</td>\n",
       "      <td>80.000000</td>\n",
       "      <td>1.000000</td>\n",
       "      <td>850000.000000</td>\n",
       "      <td>9.40000</td>\n",
       "      <td>148.000000</td>\n",
       "      <td>1.000000</td>\n",
       "      <td>1.00000</td>\n",
       "      <td>285.000000</td>\n",
       "      <td>1.00000</td>\n",
       "    </tr>\n",
       "  </tbody>\n",
       "</table>\n",
       "</div>"
      ],
      "text/plain": [
       "              age     anaemia  creatinine_phosphokinase    diabetes  \\\n",
       "count  299.000000  299.000000                299.000000  299.000000   \n",
       "mean    60.833893    0.431438                581.839465    0.418060   \n",
       "std     11.894809    0.496107                970.287881    0.494067   \n",
       "min     40.000000    0.000000                 23.000000    0.000000   \n",
       "25%     51.000000    0.000000                116.500000    0.000000   \n",
       "50%     60.000000    0.000000                250.000000    0.000000   \n",
       "75%     70.000000    1.000000                582.000000    1.000000   \n",
       "max     95.000000    1.000000               7861.000000    1.000000   \n",
       "\n",
       "       ejection_fraction  high_blood_pressure      platelets  \\\n",
       "count         299.000000           299.000000     299.000000   \n",
       "mean           38.083612             0.351171  263358.029264   \n",
       "std            11.834841             0.478136   97804.236869   \n",
       "min            14.000000             0.000000   25100.000000   \n",
       "25%            30.000000             0.000000  212500.000000   \n",
       "50%            38.000000             0.000000  262000.000000   \n",
       "75%            45.000000             1.000000  303500.000000   \n",
       "max            80.000000             1.000000  850000.000000   \n",
       "\n",
       "       serum_creatinine  serum_sodium         sex    smoking        time  \\\n",
       "count         299.00000    299.000000  299.000000  299.00000  299.000000   \n",
       "mean            1.39388    136.625418    0.648829    0.32107  130.260870   \n",
       "std             1.03451      4.412477    0.478136    0.46767   77.614208   \n",
       "min             0.50000    113.000000    0.000000    0.00000    4.000000   \n",
       "25%             0.90000    134.000000    0.000000    0.00000   73.000000   \n",
       "50%             1.10000    137.000000    1.000000    0.00000  115.000000   \n",
       "75%             1.40000    140.000000    1.000000    1.00000  203.000000   \n",
       "max             9.40000    148.000000    1.000000    1.00000  285.000000   \n",
       "\n",
       "       DEATH_EVENT  \n",
       "count    299.00000  \n",
       "mean       0.32107  \n",
       "std        0.46767  \n",
       "min        0.00000  \n",
       "25%        0.00000  \n",
       "50%        0.00000  \n",
       "75%        1.00000  \n",
       "max        1.00000  "
      ]
     },
     "execution_count": 12,
     "metadata": {},
     "output_type": "execute_result"
    }
   ],
   "source": [
    "dataset.describe()"
   ]
  },
  {
   "cell_type": "markdown",
   "metadata": {},
   "source": [
    "## AutoML Configuration\n",
    "\n",
    "TODO: Explain why you chose the automl settings and cofiguration you used below."
   ]
  },
  {
   "cell_type": "code",
   "execution_count": 13,
   "metadata": {},
   "outputs": [],
   "source": [
    "from sklearn.model_selection import train_test_split\n",
    "\n",
    "train, test = train_test_split(dataset, test_size=0.2, random_state=11)\n",
    "label_column_name = \"DEATH_EVENT\""
   ]
  },
  {
   "cell_type": "code",
   "execution_count": 14,
   "metadata": {
    "gather": {
     "logged": 1598429217746
    },
    "jupyter": {
     "outputs_hidden": false,
     "source_hidden": false
    },
    "nteract": {
     "transient": {
      "deleting": false
     }
    }
   },
   "outputs": [],
   "source": [
    "from azureml.train.automl import AutoMLConfig\n",
    "# TODO: Put your automl settings here\n",
    "automl_settings = {\n",
    "    \"n_cross_validations\": 5,\n",
    "    \"primary_metric\": \"accuracy\",\n",
    "    \"verbosity\": logging.INFO,\n",
    "    \"enable_stack_ensemble\": False,\n",
    "}\n",
    "\n",
    "\n",
    "# TODO: Put your automl config here\n",
    "automl_config = AutoMLConfig(\n",
    "    experiment_timeout_minutes=30,\n",
    "    task=\"classification\",\n",
    "    debug_log=\"automl_errors.log\",\n",
    "    training_data=train,\n",
    "    label_column_name=label_column_name,\n",
    "    **automl_settings)"
   ]
  },
  {
   "cell_type": "code",
   "execution_count": 17,
   "metadata": {
    "gather": {
     "logged": 1598431107951
    },
    "jupyter": {
     "outputs_hidden": false,
     "source_hidden": false
    },
    "nteract": {
     "transient": {
      "deleting": false
     }
    }
   },
   "outputs": [
    {
     "name": "stdout",
     "output_type": "stream",
     "text": [
      "No run_configuration provided, running on local with default configuration\n",
      "Running in the active local environment.\n"
     ]
    },
    {
     "data": {
      "text/html": [
       "<table style=\"width:100%\"><tr><th>Experiment</th><th>Id</th><th>Type</th><th>Status</th><th>Details Page</th><th>Docs Page</th></tr><tr><td>CapstoneProject</td><td>AutoML_812d7710-bc14-4391-acf7-143effb570a4</td><td>automl</td><td>Preparing</td><td><a href=\"https://ml.azure.com/runs/AutoML_812d7710-bc14-4391-acf7-143effb570a4?wsid=/subscriptions/aa7cf8e8-d23f-4bce-a7b9-1f0b4e0ac8ee/resourcegroups/aml-quickstarts-155764/workspaces/quick-starts-ws-155764&amp;tid=660b3398-b80e-49d2-bc5b-ac1dc93b5254\" target=\"_blank\" rel=\"noopener\">Link to Azure Machine Learning studio</a></td><td><a href=\"https://docs.microsoft.com/en-us/python/api/overview/azure/ml/intro?view=azure-ml-py\" target=\"_blank\" rel=\"noopener\">Link to Documentation</a></td></tr></table>"
      ],
      "text/plain": [
       "<IPython.core.display.HTML object>"
      ]
     },
     "metadata": {},
     "output_type": "display_data"
    },
    {
     "name": "stdout",
     "output_type": "stream",
     "text": [
      "Current status: DatasetEvaluation. Gathering dataset statistics.\n",
      "Current status: FeaturesGeneration. Generating features for the dataset.\n",
      "Current status: DatasetFeaturization. Beginning to fit featurizers and featurize the dataset.\n",
      "Current status: DatasetFeaturizationCompleted. Completed fit featurizers and featurizing the dataset.\n",
      "Current status: DatasetCrossValidationSplit. Generating individually featurized CV splits.\n",
      "\n",
      "****************************************************************************************************\n",
      "DATA GUARDRAILS: \n",
      "\n",
      "TYPE:         Class balancing detection\n",
      "STATUS:       PASSED\n",
      "DESCRIPTION:  Your inputs were analyzed, and all classes are balanced in your training data.\n",
      "              Learn more about imbalanced data: https://aka.ms/AutomatedMLImbalancedData\n",
      "\n",
      "****************************************************************************************************\n",
      "\n",
      "TYPE:         Missing feature values imputation\n",
      "STATUS:       PASSED\n",
      "DESCRIPTION:  No feature missing values were detected in the training data.\n",
      "              Learn more about missing value imputation: https://aka.ms/AutomatedMLFeaturization\n",
      "\n",
      "****************************************************************************************************\n",
      "\n",
      "TYPE:         High cardinality feature detection\n",
      "STATUS:       PASSED\n",
      "DESCRIPTION:  Your inputs were analyzed, and no high cardinality features were detected.\n",
      "              Learn more about high cardinality feature handling: https://aka.ms/AutomatedMLFeaturization\n",
      "\n",
      "****************************************************************************************************\n",
      "Current status: ModelSelection. Beginning model selection.\n",
      "\n",
      "****************************************************************************************************\n",
      "ITERATION: The iteration being evaluated.\n",
      "PIPELINE: A summary description of the pipeline being evaluated.\n",
      "DURATION: Time taken for the current iteration.\n",
      "METRIC: The result of computing score on the fitted pipeline.\n",
      "BEST: The best observed score thus far.\n",
      "****************************************************************************************************\n",
      "\n",
      " ITERATION   PIPELINE                                       DURATION      METRIC      BEST\n",
      "         0   MaxAbsScaler LightGBM                          0:00:22       0.7993    0.7993\n",
      "         1   MaxAbsScaler XGBoostClassifier                 0:00:22       0.8244    0.8244\n",
      "         2   MaxAbsScaler ExtremeRandomTrees                0:00:23       0.8118    0.8244\n",
      "         3   SparseNormalizer XGBoostClassifier             0:00:22       0.7831    0.8244\n",
      "         4   StandardScalerWrapper KNN                      0:00:21       0.5986    0.8244\n",
      "         5   MaxAbsScaler LightGBM                          0:00:23       0.8413    0.8413\n",
      "         6   RobustScaler LogisticRegression                0:00:22       0.7490    0.8413\n",
      "         7   MaxAbsScaler LightGBM                          0:00:21       0.8080    0.8413\n",
      "         8   StandardScalerWrapper KNN                      0:00:20       0.6111    0.8413\n",
      "         9   StandardScalerWrapper SVM                      0:00:20       0.6947    0.8413\n",
      "        10   StandardScalerWrapper XGBoostClassifier        0:00:21       0.8036    0.8413\n",
      "        11   MinMaxScaler RandomForest                      0:00:23       0.8203    0.8413\n",
      "        12   StandardScalerWrapper LogisticRegression       0:00:21       0.7450    0.8413\n",
      "        13   StandardScalerWrapper KNN                      0:00:20       0.7157    0.8413\n",
      "        14   RobustScaler KNN                               0:00:20       0.7282    0.8413\n",
      "        15   MinMaxScaler KNN                               0:00:20       0.6990    0.8413\n",
      "        16   SparseNormalizer KNN                           0:00:26       0.7535    0.8413\n",
      "        17   MaxAbsScaler LogisticRegression                0:00:20       0.8074    0.8413\n",
      "        18   StandardScalerWrapper XGBoostClassifier        0:00:20       0.7746    0.8413\n",
      "        19   StandardScalerWrapper XGBoostClassifier        0:00:21       0.8327    0.8413\n",
      "        20   MaxAbsScaler LogisticRegression                0:00:21       0.7991    0.8413\n",
      "        21   StandardScalerWrapper XGBoostClassifier        0:00:20       0.8538    0.8538\n",
      "        22   RobustScaler RandomForest                      0:00:20       0.8289    0.8538\n",
      "        23   SparseNormalizer XGBoostClassifier             0:00:21       0.7996    0.8538\n",
      "        24   SparseNormalizer XGBoostClassifier             0:00:20       0.8205    0.8538\n",
      "        25   TruncatedSVDWrapper XGBoostClassifier          0:00:20       0.6698    0.8538\n",
      "        26   StandardScalerWrapper XGBoostClassifier        0:00:21       0.8076    0.8538\n",
      "        27   StandardScalerWrapper XGBoostClassifier        0:00:16       0.7909    0.8538\n",
      "        28   StandardScalerWrapper RandomForest             0:00:21       0.8117    0.8538\n",
      "        29   SparseNormalizer XGBoostClassifier             0:00:20       0.8205    0.8538\n",
      "        30   StandardScalerWrapper XGBoostClassifier        0:00:21       0.8160    0.8538\n",
      "        31   MinMaxScaler RandomForest                      0:00:22       0.8204    0.8538\n",
      "        32   VotingEnsemble                                 0:00:18       0.8748    0.8748\n",
      "Stopping criteria reached at iteration 33. Ending experiment.\n",
      "****************************************************************************************************\n",
      "Current status: BestRunExplainModel. Best run model explanations started\n",
      "Current status: ModelExplanationDataSetSetup. Model explanations data setup completed\n",
      "Current status: PickSurrogateModel. Choosing LightGBM as the surrogate model for explanations\n",
      "Current status: EngineeredFeatureExplanations. Computation of engineered features started\n",
      "Current status: EngineeredFeatureExplanations. Computation of engineered features completed\n",
      "Current status: RawFeaturesExplanations. Computation of raw features started\n",
      "Current status: RawFeaturesExplanations. Computation of raw features completed\n",
      "Current status: BestRunExplainModel. Best run model explanations completed\n",
      "****************************************************************************************************\n"
     ]
    }
   ],
   "source": [
    "# TODO: Submit your experiment\n",
    "remote_run = experiment.submit(automl_config,show_output = True)"
   ]
  },
  {
   "cell_type": "markdown",
   "metadata": {},
   "source": [
    "## Run Details\n",
    "\n",
    "OPTIONAL: Write about the different models trained and their performance. Why do you think some models did better than others?\n",
    "\n",
    "TODO: In the cell below, use the `RunDetails` widget to show the different experiments."
   ]
  },
  {
   "cell_type": "code",
   "execution_count": 18,
   "metadata": {
    "gather": {
     "logged": 1598431121770
    },
    "jupyter": {
     "outputs_hidden": false,
     "source_hidden": false
    },
    "nteract": {
     "transient": {
      "deleting": false
     }
    }
   },
   "outputs": [
    {
     "data": {
      "application/vnd.jupyter.widget-view+json": {
       "model_id": "772c8576e7ce41e299566093c8ebbac2",
       "version_major": 2,
       "version_minor": 0
      },
      "text/plain": [
       "_AutoMLWidget(widget_settings={'childWidgetDisplay': 'popup', 'send_telemetry': False, 'log_level': 'INFO', 's…"
      ]
     },
     "metadata": {},
     "output_type": "display_data"
    },
    {
     "data": {
      "application/aml.mini.widget.v1": "{\"status\": \"Completed\", \"workbench_run_details_uri\": \"https://ml.azure.com/runs/AutoML_812d7710-bc14-4391-acf7-143effb570a4?wsid=/subscriptions/aa7cf8e8-d23f-4bce-a7b9-1f0b4e0ac8ee/resourcegroups/aml-quickstarts-155764/workspaces/quick-starts-ws-155764&tid=660b3398-b80e-49d2-bc5b-ac1dc93b5254\", \"run_id\": \"AutoML_812d7710-bc14-4391-acf7-143effb570a4\", \"run_properties\": {\"run_id\": \"AutoML_812d7710-bc14-4391-acf7-143effb570a4\", \"created_utc\": \"2021-08-25T17:14:30.711622Z\", \"properties\": {\"num_iterations\": \"1000\", \"training_type\": \"TrainFull\", \"acquisition_function\": \"EI\", \"primary_metric\": \"accuracy\", \"train_split\": \"0\", \"acquisition_parameter\": \"0\", \"num_cross_validation\": \"5\", \"target\": \"local\", \"AMLSettingsJsonString\": \"{\\\"path\\\":null,\\\"name\\\":\\\"CapstoneProject\\\",\\\"subscription_id\\\":\\\"aa7cf8e8-d23f-4bce-a7b9-1f0b4e0ac8ee\\\",\\\"resource_group\\\":\\\"aml-quickstarts-155764\\\",\\\"workspace_name\\\":\\\"quick-starts-ws-155764\\\",\\\"region\\\":\\\"southcentralus\\\",\\\"compute_target\\\":\\\"local\\\",\\\"spark_service\\\":null,\\\"azure_service\\\":\\\"Microsoft.AzureNotebookVM\\\",\\\"many_models\\\":false,\\\"pipeline_fetch_max_batch_size\\\":1,\\\"enable_batch_run\\\":false,\\\"enable_run_restructure\\\":false,\\\"start_auxiliary_runs_before_parent_complete\\\":false,\\\"enable_code_generation\\\":false,\\\"iterations\\\":1000,\\\"primary_metric\\\":\\\"accuracy\\\",\\\"task_type\\\":\\\"classification\\\",\\\"data_script\\\":null,\\\"test_size\\\":0.0,\\\"validation_size\\\":0.0,\\\"n_cross_validations\\\":5,\\\"y_min\\\":null,\\\"y_max\\\":null,\\\"num_classes\\\":null,\\\"featurization\\\":\\\"auto\\\",\\\"_ignore_package_version_incompatibilities\\\":false,\\\"is_timeseries\\\":false,\\\"max_cores_per_iteration\\\":1,\\\"max_concurrent_iterations\\\":1,\\\"iteration_timeout_minutes\\\":null,\\\"mem_in_mb\\\":null,\\\"enforce_time_on_windows\\\":false,\\\"experiment_timeout_minutes\\\":30,\\\"experiment_exit_score\\\":null,\\\"whitelist_models\\\":null,\\\"blacklist_algos\\\":[\\\"TensorFlowLinearClassifier\\\",\\\"TensorFlowDNN\\\"],\\\"supported_models\\\":[\\\"RandomForest\\\",\\\"ExtremeRandomTrees\\\",\\\"TensorFlowDNN\\\",\\\"BernoulliNaiveBayes\\\",\\\"SGD\\\",\\\"KNN\\\",\\\"XGBoostClassifier\\\",\\\"SVM\\\",\\\"DecisionTree\\\",\\\"LightGBM\\\",\\\"GradientBoosting\\\",\\\"AveragedPerceptronClassifier\\\",\\\"TensorFlowLinearClassifier\\\",\\\"LinearSVM\\\",\\\"MultinomialNaiveBayes\\\",\\\"LogisticRegression\\\"],\\\"private_models\\\":[],\\\"auto_blacklist\\\":true,\\\"blacklist_samples_reached\\\":false,\\\"exclude_nan_labels\\\":true,\\\"verbosity\\\":20,\\\"_debug_log\\\":\\\"automl_errors.log\\\",\\\"show_warnings\\\":false,\\\"model_explainability\\\":true,\\\"service_url\\\":null,\\\"sdk_url\\\":null,\\\"sdk_packages\\\":null,\\\"enable_onnx_compatible_models\\\":false,\\\"enable_split_onnx_featurizer_estimator_models\\\":false,\\\"vm_type\\\":null,\\\"telemetry_verbosity\\\":20,\\\"send_telemetry\\\":true,\\\"enable_dnn\\\":false,\\\"scenario\\\":\\\"SDK-1.13.0\\\",\\\"environment_label\\\":null,\\\"save_mlflow\\\":false,\\\"force_text_dnn\\\":false,\\\"enable_feature_sweeping\\\":true,\\\"enable_early_stopping\\\":true,\\\"early_stopping_n_iters\\\":10,\\\"metrics\\\":null,\\\"enable_metric_confidence\\\":false,\\\"enable_ensembling\\\":true,\\\"enable_stack_ensembling\\\":false,\\\"ensemble_iterations\\\":15,\\\"enable_tf\\\":false,\\\"enable_subsampling\\\":null,\\\"subsample_seed\\\":null,\\\"enable_nimbusml\\\":false,\\\"enable_streaming\\\":false,\\\"force_streaming\\\":false,\\\"track_child_runs\\\":true,\\\"allowed_private_models\\\":[],\\\"label_column_name\\\":\\\"DEATH_EVENT\\\",\\\"weight_column_name\\\":null,\\\"cv_split_column_names\\\":null,\\\"enable_local_managed\\\":false,\\\"_local_managed_run_id\\\":null,\\\"cost_mode\\\":1,\\\"lag_length\\\":0,\\\"metric_operation\\\":\\\"maximize\\\",\\\"preprocess\\\":true}\", \"DataPrepJsonString\": null, \"EnableSubsampling\": null, \"runTemplate\": \"AutoML\", \"azureml.runsource\": \"automl\", \"display_task_type\": \"classification\", \"dependencies_versions\": \"{\\\"azureml-widgets\\\": \\\"1.33.0\\\", \\\"azureml-train\\\": \\\"1.33.0\\\", \\\"azureml-train-restclients-hyperdrive\\\": \\\"1.33.0\\\", \\\"azureml-train-core\\\": \\\"1.33.0\\\", \\\"azureml-train-automl\\\": \\\"1.33.0\\\", \\\"azureml-train-automl-runtime\\\": \\\"1.33.0\\\", \\\"azureml-train-automl-client\\\": \\\"1.33.0\\\", \\\"azureml-tensorboard\\\": \\\"1.33.0\\\", \\\"azureml-telemetry\\\": \\\"1.33.0\\\", \\\"azureml-sdk\\\": \\\"1.33.0\\\", \\\"azureml-samples\\\": \\\"0+unknown\\\", \\\"azureml-responsibleai\\\": \\\"1.33.0\\\", \\\"azureml-pipeline\\\": \\\"1.33.0\\\", \\\"azureml-pipeline-steps\\\": \\\"1.33.0\\\", \\\"azureml-pipeline-core\\\": \\\"1.33.0\\\", \\\"azureml-opendatasets\\\": \\\"1.33.0\\\", \\\"azureml-mlflow\\\": \\\"1.33.0\\\", \\\"azureml-interpret\\\": \\\"1.33.0\\\", \\\"azureml-explain-model\\\": \\\"1.33.0\\\", \\\"azureml-defaults\\\": \\\"1.33.0\\\", \\\"azureml-dataset-runtime\\\": \\\"1.33.0\\\", \\\"azureml-dataprep\\\": \\\"2.20.1\\\", \\\"azureml-dataprep-rslex\\\": \\\"1.18.0\\\", \\\"azureml-dataprep-native\\\": \\\"38.0.0\\\", \\\"azureml-datadrift\\\": \\\"1.33.0\\\", \\\"azureml-core\\\": \\\"1.33.0\\\", \\\"azureml-contrib-services\\\": \\\"1.33.0\\\", \\\"azureml-contrib-server\\\": \\\"1.33.0\\\", \\\"azureml-contrib-reinforcementlearning\\\": \\\"1.33.0\\\", \\\"azureml-contrib-pipeline-steps\\\": \\\"1.33.0\\\", \\\"azureml-contrib-notebook\\\": \\\"1.33.0\\\", \\\"azureml-contrib-fairness\\\": \\\"1.33.0\\\", \\\"azureml-contrib-dataset\\\": \\\"1.33.0\\\", \\\"azureml-cli-common\\\": \\\"1.33.0\\\", \\\"azureml-automl-runtime\\\": \\\"1.33.0\\\", \\\"azureml-automl-dnn-nlp\\\": \\\"1.33.0\\\", \\\"azureml-automl-core\\\": \\\"1.33.0\\\", \\\"azureml-accel-models\\\": \\\"1.33.0\\\"}\", \"_aml_system_scenario_identification\": \"Local.Parent\", \"ClientSdkVersion\": \"1.33.0\", \"ClientType\": \"SDK\", \"environment_cpu_name\": \"AzureML-AutoML\", \"environment_cpu_label\": \"prod\", \"environment_gpu_name\": \"AzureML-AutoML-GPU\", \"environment_gpu_label\": \"prod\", \"root_attribution\": \"automl\", \"attribution\": \"AutoML\", \"Orchestrator\": \"AutoML\", \"_azureml.ComputeTargetType\": \"local\", \"ProblemInfoJsonString\": \"{\\\"dataset_num_categorical\\\": 0, \\\"is_sparse\\\": false, \\\"subsampling\\\": false, \\\"has_extra_col\\\": true, \\\"dataset_classes\\\": 2, \\\"dataset_features\\\": 12, \\\"dataset_samples\\\": 239, \\\"single_frequency_class_detected\\\": false}\"}, \"tags\": {\"model_explain_run\": \"best_run\", \"best_score\": \"0.874822695035461\", \"best_pipeline\": \"VotingEnsemble\", \"automl_best_child_run_id\": \"AutoML_812d7710-bc14-4391-acf7-143effb570a4_32\", \"model_explain_best_run_child_id\": \"AutoML_812d7710-bc14-4391-acf7-143effb570a4_32\"}, \"end_time_utc\": \"2021-08-25T17:27:18.947247Z\", \"status\": \"Completed\", \"log_files\": {}, \"log_groups\": [], \"run_duration\": \"0:12:48\", \"run_number\": \"1\", \"run_queued_details\": {\"status\": \"Completed\", \"details\": null}}, \"child_runs\": [{\"run_id\": \"AutoML_812d7710-bc14-4391-acf7-143effb570a4_0\", \"run_number\": 2, \"metric\": null, \"status\": \"Completed\", \"run_type\": null, \"training_percent\": \"100\", \"start_time\": \"2021-08-25T17:14:44.837372Z\", \"end_time\": \"2021-08-25T17:15:07.629267Z\", \"created_time\": \"2021-08-25T17:14:44.602974Z\", \"created_time_dt\": \"2021-08-25T17:14:44.602974Z\", \"duration\": \"0:00:23\", \"iteration\": \"0\", \"goal\": \"accuracy_max\", \"run_name\": \"MaxAbsScaler, LightGBM\", \"run_properties\": \"copy=True\", \"primary_metric\": 0.79929078, \"best_metric\": 0.79929078}, {\"run_id\": \"AutoML_812d7710-bc14-4391-acf7-143effb570a4_1\", \"run_number\": 3, \"metric\": null, \"status\": \"Completed\", \"run_type\": null, \"training_percent\": \"100\", \"start_time\": \"2021-08-25T17:15:08.309061Z\", \"end_time\": \"2021-08-25T17:15:30.315761Z\", \"created_time\": \"2021-08-25T17:15:08.048712Z\", \"created_time_dt\": \"2021-08-25T17:15:08.048712Z\", \"duration\": \"0:00:22\", \"iteration\": \"1\", \"goal\": \"accuracy_max\", \"run_name\": \"MaxAbsScaler, XGBoostClassifier\", \"run_properties\": \"copy=True\", \"primary_metric\": 0.82437943, \"best_metric\": 0.82437943}, {\"run_id\": \"AutoML_812d7710-bc14-4391-acf7-143effb570a4_2\", \"run_number\": 4, \"metric\": null, \"status\": \"Completed\", \"run_type\": null, \"training_percent\": \"100\", \"start_time\": \"2021-08-25T17:15:31.564043Z\", \"end_time\": \"2021-08-25T17:15:54.419064Z\", \"created_time\": \"2021-08-25T17:15:31.296605Z\", \"created_time_dt\": \"2021-08-25T17:15:31.296605Z\", \"duration\": \"0:00:23\", \"iteration\": \"2\", \"goal\": \"accuracy_max\", \"run_name\": \"MaxAbsScaler, ExtremeRandomTrees\", \"run_properties\": \"copy=True\", \"primary_metric\": 0.81179078, \"best_metric\": 0.82437943}, {\"run_id\": \"AutoML_812d7710-bc14-4391-acf7-143effb570a4_3\", \"run_number\": 5, \"metric\": null, \"status\": \"Completed\", \"run_type\": null, \"training_percent\": \"100\", \"start_time\": \"2021-08-25T17:15:56.015014Z\", \"end_time\": \"2021-08-25T17:16:18.206546Z\", \"created_time\": \"2021-08-25T17:15:55.785106Z\", \"created_time_dt\": \"2021-08-25T17:15:55.785106Z\", \"duration\": \"0:00:22\", \"iteration\": \"3\", \"goal\": \"accuracy_max\", \"run_name\": \"SparseNormalizer, XGBoostClassifier\", \"run_properties\": \"copy=True, norm='l2'\", \"primary_metric\": 0.78306738, \"best_metric\": 0.82437943}, {\"run_id\": \"AutoML_812d7710-bc14-4391-acf7-143effb570a4_4\", \"run_number\": 6, \"metric\": null, \"status\": \"Completed\", \"run_type\": null, \"training_percent\": \"100\", \"start_time\": \"2021-08-25T17:16:19.86298Z\", \"end_time\": \"2021-08-25T17:16:41.27089Z\", \"created_time\": \"2021-08-25T17:16:19.625398Z\", \"created_time_dt\": \"2021-08-25T17:16:19.625398Z\", \"duration\": \"0:00:21\", \"iteration\": \"4\", \"goal\": \"accuracy_max\", \"run_name\": \"StandardScalerWrapper, KNN\", \"run_properties\": \"\\n    copy=True,\\n    with_mean=False,\\n    with_std=False\\n\", \"primary_metric\": 0.59858156, \"best_metric\": 0.82437943}, {\"run_id\": \"AutoML_812d7710-bc14-4391-acf7-143effb570a4_5\", \"run_number\": 7, \"metric\": null, \"status\": \"Completed\", \"run_type\": null, \"training_percent\": \"100\", \"start_time\": \"2021-08-25T17:16:44.930223Z\", \"end_time\": \"2021-08-25T17:17:08.021857Z\", \"created_time\": \"2021-08-25T17:16:44.613523Z\", \"created_time_dt\": \"2021-08-25T17:16:44.613523Z\", \"duration\": \"0:00:23\", \"iteration\": \"5\", \"goal\": \"accuracy_max\", \"run_name\": \"MaxAbsScaler, LightGBM\", \"run_properties\": \"copy=True\", \"primary_metric\": 0.84131206, \"best_metric\": 0.84131206}, {\"run_id\": \"AutoML_812d7710-bc14-4391-acf7-143effb570a4_6\", \"run_number\": 8, \"metric\": null, \"status\": \"Completed\", \"run_type\": null, \"training_percent\": \"100\", \"start_time\": \"2021-08-25T17:17:09.62896Z\", \"end_time\": \"2021-08-25T17:17:31.908381Z\", \"created_time\": \"2021-08-25T17:17:09.375474Z\", \"created_time_dt\": \"2021-08-25T17:17:09.375474Z\", \"duration\": \"0:00:22\", \"iteration\": \"6\", \"goal\": \"accuracy_max\", \"run_name\": \"RobustScaler, LogisticRegression\", \"run_properties\": \"copy=True, quantile_range=[10, 90], with_centering=True,\\n             with_scaling=True\", \"primary_metric\": 0.74902482, \"best_metric\": 0.84131206}, {\"run_id\": \"AutoML_812d7710-bc14-4391-acf7-143effb570a4_7\", \"run_number\": 9, \"metric\": null, \"status\": \"Completed\", \"run_type\": null, \"training_percent\": \"100\", \"start_time\": \"2021-08-25T17:17:33.487081Z\", \"end_time\": \"2021-08-25T17:17:55.070128Z\", \"created_time\": \"2021-08-25T17:17:33.252673Z\", \"created_time_dt\": \"2021-08-25T17:17:33.252673Z\", \"duration\": \"0:00:21\", \"iteration\": \"7\", \"goal\": \"accuracy_max\", \"run_name\": \"MaxAbsScaler, LightGBM\", \"run_properties\": \"copy=True\", \"primary_metric\": 0.80797872, \"best_metric\": 0.84131206}, {\"run_id\": \"AutoML_812d7710-bc14-4391-acf7-143effb570a4_8\", \"run_number\": 10, \"metric\": null, \"status\": \"Completed\", \"run_type\": null, \"training_percent\": \"100\", \"start_time\": \"2021-08-25T17:17:56.639853Z\", \"end_time\": \"2021-08-25T17:18:17.415266Z\", \"created_time\": \"2021-08-25T17:17:56.392464Z\", \"created_time_dt\": \"2021-08-25T17:17:56.392464Z\", \"duration\": \"0:00:21\", \"iteration\": \"8\", \"goal\": \"accuracy_max\", \"run_name\": \"StandardScalerWrapper, KNN\", \"run_properties\": \"\\n    copy=True,\\n    with_mean=False,\\n    with_std=False\\n\", \"primary_metric\": 0.61108156, \"best_metric\": 0.84131206}, {\"run_id\": \"AutoML_812d7710-bc14-4391-acf7-143effb570a4_9\", \"run_number\": 11, \"metric\": null, \"status\": \"Completed\", \"run_type\": null, \"training_percent\": \"100\", \"start_time\": \"2021-08-25T17:18:19.007424Z\", \"end_time\": \"2021-08-25T17:18:39.719479Z\", \"created_time\": \"2021-08-25T17:18:18.764586Z\", \"created_time_dt\": \"2021-08-25T17:18:18.764586Z\", \"duration\": \"0:00:20\", \"iteration\": \"9\", \"goal\": \"accuracy_max\", \"run_name\": \"StandardScalerWrapper, SVM\", \"run_properties\": \"\\n    copy=True,\\n    with_mean=True,\\n    with_std=True\\n\", \"primary_metric\": 0.69468085, \"best_metric\": 0.84131206}, {\"run_id\": \"AutoML_812d7710-bc14-4391-acf7-143effb570a4_10\", \"run_number\": 12, \"metric\": null, \"status\": \"Completed\", \"run_type\": null, \"training_percent\": \"100\", \"start_time\": \"2021-08-25T17:18:41.337216Z\", \"end_time\": \"2021-08-25T17:19:02.817888Z\", \"created_time\": \"2021-08-25T17:18:41.10753Z\", \"created_time_dt\": \"2021-08-25T17:18:41.10753Z\", \"duration\": \"0:00:21\", \"iteration\": \"10\", \"goal\": \"accuracy_max\", \"run_name\": \"StandardScalerWrapper, XGBoostClassifier\", \"run_properties\": \"\\n    copy=True,\\n    with_mean=False,\\n    with_std=False\\n\", \"primary_metric\": 0.80363475, \"best_metric\": 0.84131206}, {\"run_id\": \"AutoML_812d7710-bc14-4391-acf7-143effb570a4_11\", \"run_number\": 13, \"metric\": null, \"status\": \"Completed\", \"run_type\": null, \"training_percent\": \"100\", \"start_time\": \"2021-08-25T17:19:04.555604Z\", \"end_time\": \"2021-08-25T17:19:27.610962Z\", \"created_time\": \"2021-08-25T17:19:04.301206Z\", \"created_time_dt\": \"2021-08-25T17:19:04.301206Z\", \"duration\": \"0:00:23\", \"iteration\": \"11\", \"goal\": \"accuracy_max\", \"run_name\": \"MinMaxScaler, RandomForest\", \"run_properties\": \"copy=True, feature_range=(0, 1\", \"primary_metric\": 0.82030142, \"best_metric\": 0.84131206}, {\"run_id\": \"AutoML_812d7710-bc14-4391-acf7-143effb570a4_12\", \"run_number\": 14, \"metric\": null, \"status\": \"Completed\", \"run_type\": null, \"training_percent\": \"100\", \"start_time\": \"2021-08-25T17:19:29.328722Z\", \"end_time\": \"2021-08-25T17:19:51.113668Z\", \"created_time\": \"2021-08-25T17:19:29.099552Z\", \"created_time_dt\": \"2021-08-25T17:19:29.099552Z\", \"duration\": \"0:00:22\", \"iteration\": \"12\", \"goal\": \"accuracy_max\", \"run_name\": \"StandardScalerWrapper, LogisticRegression\", \"run_properties\": \"\\n    copy=True,\\n    with_mean=True,\\n    with_std=False\\n\", \"primary_metric\": 0.74503546, \"best_metric\": 0.84131206}, {\"run_id\": \"AutoML_812d7710-bc14-4391-acf7-143effb570a4_13\", \"run_number\": 15, \"metric\": null, \"status\": \"Completed\", \"run_type\": null, \"training_percent\": \"100\", \"start_time\": \"2021-08-25T17:19:52.696109Z\", \"end_time\": \"2021-08-25T17:20:13.438271Z\", \"created_time\": \"2021-08-25T17:19:52.55507Z\", \"created_time_dt\": \"2021-08-25T17:19:52.55507Z\", \"duration\": \"0:00:20\", \"iteration\": \"13\", \"goal\": \"accuracy_max\", \"run_name\": \"StandardScalerWrapper, KNN\", \"run_properties\": \"\\n    copy=True,\\n    with_mean=False,\\n    with_std=True\\n\", \"primary_metric\": 0.71569149, \"best_metric\": 0.84131206}, {\"run_id\": \"AutoML_812d7710-bc14-4391-acf7-143effb570a4_14\", \"run_number\": 16, \"metric\": null, \"status\": \"Completed\", \"run_type\": null, \"training_percent\": \"100\", \"start_time\": \"2021-08-25T17:20:14.964348Z\", \"end_time\": \"2021-08-25T17:20:35.397541Z\", \"created_time\": \"2021-08-25T17:20:14.839307Z\", \"created_time_dt\": \"2021-08-25T17:20:14.839307Z\", \"duration\": \"0:00:20\", \"iteration\": \"14\", \"goal\": \"accuracy_max\", \"run_name\": \"RobustScaler, KNN\", \"run_properties\": \"copy=True, quantile_range=[10, 90], with_centering=False,\\n             with_scaling=True\", \"primary_metric\": 0.72819149, \"best_metric\": 0.84131206}, {\"run_id\": \"AutoML_812d7710-bc14-4391-acf7-143effb570a4_15\", \"run_number\": 17, \"metric\": null, \"status\": \"Completed\", \"run_type\": null, \"training_percent\": \"100\", \"start_time\": \"2021-08-25T17:20:36.882942Z\", \"end_time\": \"2021-08-25T17:20:57.534996Z\", \"created_time\": \"2021-08-25T17:20:36.759555Z\", \"created_time_dt\": \"2021-08-25T17:20:36.759555Z\", \"duration\": \"0:00:20\", \"iteration\": \"15\", \"goal\": \"accuracy_max\", \"run_name\": \"MinMaxScaler, KNN\", \"run_properties\": \"copy=True, feature_range=(0, 1\", \"primary_metric\": 0.69902482, \"best_metric\": 0.84131206}, {\"run_id\": \"AutoML_812d7710-bc14-4391-acf7-143effb570a4_16\", \"run_number\": 18, \"metric\": null, \"status\": \"Completed\", \"run_type\": null, \"training_percent\": \"100\", \"start_time\": \"2021-08-25T17:20:59.009698Z\", \"end_time\": \"2021-08-25T17:21:25.139755Z\", \"created_time\": \"2021-08-25T17:20:58.880005Z\", \"created_time_dt\": \"2021-08-25T17:20:58.880005Z\", \"duration\": \"0:00:26\", \"iteration\": \"16\", \"goal\": \"accuracy_max\", \"run_name\": \"SparseNormalizer, KNN\", \"run_properties\": \"copy=True, norm='max'\", \"primary_metric\": 0.75345745, \"best_metric\": 0.84131206}, {\"run_id\": \"AutoML_812d7710-bc14-4391-acf7-143effb570a4_17\", \"run_number\": 19, \"metric\": null, \"status\": \"Completed\", \"run_type\": null, \"training_percent\": \"100\", \"start_time\": \"2021-08-25T17:21:26.531103Z\", \"end_time\": \"2021-08-25T17:21:47.295501Z\", \"created_time\": \"2021-08-25T17:21:26.402518Z\", \"created_time_dt\": \"2021-08-25T17:21:26.402518Z\", \"duration\": \"0:00:20\", \"iteration\": \"17\", \"goal\": \"accuracy_max\", \"run_name\": \"MaxAbsScaler, LogisticRegression\", \"run_properties\": \"copy=True\", \"primary_metric\": 0.80744681, \"best_metric\": 0.84131206}, {\"run_id\": \"AutoML_812d7710-bc14-4391-acf7-143effb570a4_18\", \"run_number\": 20, \"metric\": null, \"status\": \"Completed\", \"run_type\": null, \"training_percent\": \"100\", \"start_time\": \"2021-08-25T17:21:48.827996Z\", \"end_time\": \"2021-08-25T17:22:09.339229Z\", \"created_time\": \"2021-08-25T17:21:48.701901Z\", \"created_time_dt\": \"2021-08-25T17:21:48.701901Z\", \"duration\": \"0:00:20\", \"iteration\": \"18\", \"goal\": \"accuracy_max\", \"run_name\": \"StandardScalerWrapper, XGBoostClassifier\", \"run_properties\": \"\\n    copy=True,\\n    with_mean=False,\\n    with_std=False\\n\", \"primary_metric\": 0.77455674, \"best_metric\": 0.84131206}, {\"run_id\": \"AutoML_812d7710-bc14-4391-acf7-143effb570a4_19\", \"run_number\": 21, \"metric\": null, \"status\": \"Completed\", \"run_type\": null, \"training_percent\": \"100\", \"start_time\": \"2021-08-25T17:22:10.690313Z\", \"end_time\": \"2021-08-25T17:22:31.730482Z\", \"created_time\": \"2021-08-25T17:22:10.562472Z\", \"created_time_dt\": \"2021-08-25T17:22:10.562472Z\", \"duration\": \"0:00:21\", \"iteration\": \"19\", \"goal\": \"accuracy_max\", \"run_name\": \"StandardScalerWrapper, XGBoostClassifier\", \"run_properties\": \"\\n    copy=True,\\n    with_mean=False,\\n    with_std=False\\n\", \"primary_metric\": 0.83271277, \"best_metric\": 0.84131206}, {\"run_id\": \"AutoML_812d7710-bc14-4391-acf7-143effb570a4_20\", \"run_number\": 22, \"metric\": null, \"status\": \"Completed\", \"run_type\": null, \"training_percent\": \"100\", \"start_time\": \"2021-08-25T17:22:33.247645Z\", \"end_time\": \"2021-08-25T17:22:54.391773Z\", \"created_time\": \"2021-08-25T17:22:33.121882Z\", \"created_time_dt\": \"2021-08-25T17:22:33.121882Z\", \"duration\": \"0:00:21\", \"iteration\": \"20\", \"goal\": \"accuracy_max\", \"run_name\": \"MaxAbsScaler, LogisticRegression\", \"run_properties\": \"copy=True\", \"primary_metric\": 0.79911348, \"best_metric\": 0.84131206}, {\"run_id\": \"AutoML_812d7710-bc14-4391-acf7-143effb570a4_21\", \"run_number\": 23, \"metric\": null, \"status\": \"Completed\", \"run_type\": null, \"training_percent\": \"100\", \"start_time\": \"2021-08-25T17:22:55.760702Z\", \"end_time\": \"2021-08-25T17:23:16.496549Z\", \"created_time\": \"2021-08-25T17:22:55.635835Z\", \"created_time_dt\": \"2021-08-25T17:22:55.635835Z\", \"duration\": \"0:00:20\", \"iteration\": \"21\", \"goal\": \"accuracy_max\", \"run_name\": \"StandardScalerWrapper, XGBoostClassifier\", \"run_properties\": \"\\n    copy=True,\\n    with_mean=False,\\n    with_std=False\\n\", \"primary_metric\": 0.85381206, \"best_metric\": 0.85381206}, {\"run_id\": \"AutoML_812d7710-bc14-4391-acf7-143effb570a4_22\", \"run_number\": 24, \"metric\": null, \"status\": \"Completed\", \"run_type\": null, \"training_percent\": \"100\", \"start_time\": \"2021-08-25T17:23:17.838046Z\", \"end_time\": \"2021-08-25T17:23:38.638672Z\", \"created_time\": \"2021-08-25T17:23:17.722188Z\", \"created_time_dt\": \"2021-08-25T17:23:17.722188Z\", \"duration\": \"0:00:20\", \"iteration\": \"22\", \"goal\": \"accuracy_max\", \"run_name\": \"RobustScaler, RandomForest\", \"run_properties\": \"copy=True, quantile_range=[10, 90], with_centering=True,\\n             with_scaling=True\", \"primary_metric\": 0.82890071, \"best_metric\": 0.85381206}, {\"run_id\": \"AutoML_812d7710-bc14-4391-acf7-143effb570a4_23\", \"run_number\": 25, \"metric\": null, \"status\": \"Completed\", \"run_type\": null, \"training_percent\": \"100\", \"start_time\": \"2021-08-25T17:23:40.065186Z\", \"end_time\": \"2021-08-25T17:24:01.57465Z\", \"created_time\": \"2021-08-25T17:23:39.935582Z\", \"created_time_dt\": \"2021-08-25T17:23:39.935582Z\", \"duration\": \"0:00:21\", \"iteration\": \"23\", \"goal\": \"accuracy_max\", \"run_name\": \"SparseNormalizer, XGBoostClassifier\", \"run_properties\": \"copy=True, norm='l2'\", \"primary_metric\": 0.79964539, \"best_metric\": 0.85381206}, {\"run_id\": \"AutoML_812d7710-bc14-4391-acf7-143effb570a4_24\", \"run_number\": 26, \"metric\": null, \"status\": \"Completed\", \"run_type\": null, \"training_percent\": \"100\", \"start_time\": \"2021-08-25T17:24:02.852965Z\", \"end_time\": \"2021-08-25T17:24:23.383432Z\", \"created_time\": \"2021-08-25T17:24:02.724896Z\", \"created_time_dt\": \"2021-08-25T17:24:02.724896Z\", \"duration\": \"0:00:20\", \"iteration\": \"24\", \"goal\": \"accuracy_max\", \"run_name\": \"SparseNormalizer, XGBoostClassifier\", \"run_properties\": \"copy=True, norm='l1'\", \"primary_metric\": 0.82047872, \"best_metric\": 0.85381206}, {\"run_id\": \"AutoML_812d7710-bc14-4391-acf7-143effb570a4_25\", \"run_number\": 27, \"metric\": null, \"status\": \"Completed\", \"run_type\": null, \"training_percent\": \"100\", \"start_time\": \"2021-08-25T17:24:25.772335Z\", \"end_time\": \"2021-08-25T17:24:46.372109Z\", \"created_time\": \"2021-08-25T17:24:25.636359Z\", \"created_time_dt\": \"2021-08-25T17:24:25.636359Z\", \"duration\": \"0:00:20\", \"iteration\": \"25\", \"goal\": \"accuracy_max\", \"run_name\": \"TruncatedSVDWrapper, XGBoostClassifier\", \"run_properties\": \"n_components=0.8510526315789474, random_state=None\", \"primary_metric\": 0.6697695, \"best_metric\": 0.85381206}, {\"run_id\": \"AutoML_812d7710-bc14-4391-acf7-143effb570a4_26\", \"run_number\": 28, \"metric\": null, \"status\": \"Completed\", \"run_type\": null, \"training_percent\": \"100\", \"start_time\": \"2021-08-25T17:24:47.811522Z\", \"end_time\": \"2021-08-25T17:25:08.831442Z\", \"created_time\": \"2021-08-25T17:24:47.668573Z\", \"created_time_dt\": \"2021-08-25T17:24:47.668573Z\", \"duration\": \"0:00:21\", \"iteration\": \"26\", \"goal\": \"accuracy_max\", \"run_name\": \"StandardScalerWrapper, XGBoostClassifier\", \"run_properties\": \"\\n    copy=True,\\n    with_mean=False,\\n    with_std=False\\n\", \"primary_metric\": 0.80762411, \"best_metric\": 0.85381206}, {\"run_id\": \"AutoML_812d7710-bc14-4391-acf7-143effb570a4_27\", \"run_number\": 29, \"metric\": null, \"status\": \"Completed\", \"run_type\": null, \"training_percent\": \"100\", \"start_time\": \"2021-08-25T17:25:10.383503Z\", \"end_time\": \"2021-08-25T17:25:27.21665Z\", \"created_time\": \"2021-08-25T17:25:10.175213Z\", \"created_time_dt\": \"2021-08-25T17:25:10.175213Z\", \"duration\": \"0:00:17\", \"iteration\": \"27\", \"goal\": \"accuracy_max\", \"run_name\": \"StandardScalerWrapper, XGBoostClassifier\", \"run_properties\": \"\\n    copy=True,\\n    with_mean=False,\\n    with_std=False\\n\", \"primary_metric\": 0.79086879, \"best_metric\": 0.85381206}, {\"run_id\": \"AutoML_812d7710-bc14-4391-acf7-143effb570a4_28\", \"run_number\": 30, \"metric\": null, \"status\": \"Completed\", \"run_type\": null, \"training_percent\": \"100\", \"start_time\": \"2021-08-25T17:25:28.57168Z\", \"end_time\": \"2021-08-25T17:25:49.753769Z\", \"created_time\": \"2021-08-25T17:25:28.443414Z\", \"created_time_dt\": \"2021-08-25T17:25:28.443414Z\", \"duration\": \"0:00:21\", \"iteration\": \"28\", \"goal\": \"accuracy_max\", \"run_name\": \"StandardScalerWrapper, RandomForest\", \"run_properties\": \"\\n    copy=True,\\n    with_mean=False,\\n    with_std=False\\n\", \"primary_metric\": 0.81170213, \"best_metric\": 0.85381206}, {\"run_id\": \"AutoML_812d7710-bc14-4391-acf7-143effb570a4_29\", \"run_number\": 31, \"metric\": null, \"status\": \"Completed\", \"run_type\": null, \"training_percent\": \"100\", \"start_time\": \"2021-08-25T17:25:51.202547Z\", \"end_time\": \"2021-08-25T17:26:11.684093Z\", \"created_time\": \"2021-08-25T17:25:51.076541Z\", \"created_time_dt\": \"2021-08-25T17:25:51.076541Z\", \"duration\": \"0:00:20\", \"iteration\": \"29\", \"goal\": \"accuracy_max\", \"run_name\": \"SparseNormalizer, XGBoostClassifier\", \"run_properties\": \"copy=True, norm='l1'\", \"primary_metric\": 0.82047872, \"best_metric\": 0.85381206}, {\"run_id\": \"AutoML_812d7710-bc14-4391-acf7-143effb570a4_30\", \"run_number\": 32, \"metric\": null, \"status\": \"Completed\", \"run_type\": null, \"training_percent\": \"100\", \"start_time\": \"2021-08-25T17:26:14.13262Z\", \"end_time\": \"2021-08-25T17:26:35.874962Z\", \"created_time\": \"2021-08-25T17:26:13.987104Z\", \"created_time_dt\": \"2021-08-25T17:26:13.987104Z\", \"duration\": \"0:00:21\", \"iteration\": \"30\", \"goal\": \"accuracy_max\", \"run_name\": \"StandardScalerWrapper, XGBoostClassifier\", \"run_properties\": \"\\n    copy=True,\\n    with_mean=False,\\n    with_std=False\\n\", \"primary_metric\": 0.81595745, \"best_metric\": 0.85381206}, {\"run_id\": \"AutoML_812d7710-bc14-4391-acf7-143effb570a4_31\", \"run_number\": 33, \"metric\": null, \"status\": \"Completed\", \"run_type\": null, \"training_percent\": \"100\", \"start_time\": \"2021-08-25T17:26:37.284041Z\", \"end_time\": \"2021-08-25T17:27:00.027768Z\", \"created_time\": \"2021-08-25T17:26:37.15561Z\", \"created_time_dt\": \"2021-08-25T17:26:37.15561Z\", \"duration\": \"0:00:22\", \"iteration\": \"31\", \"goal\": \"accuracy_max\", \"run_name\": \"MinMaxScaler, RandomForest\", \"run_properties\": \"copy=True, feature_range=(0, 1\", \"primary_metric\": 0.82039007, \"best_metric\": 0.85381206}, {\"run_id\": \"AutoML_812d7710-bc14-4391-acf7-143effb570a4_32\", \"run_number\": 34, \"metric\": null, \"status\": \"Completed\", \"run_type\": null, \"training_percent\": \"100\", \"start_time\": \"2021-08-25T17:27:00.409983Z\", \"end_time\": \"2021-08-25T17:27:18.620594Z\", \"created_time\": \"2021-08-25T17:27:00.250941Z\", \"created_time_dt\": \"2021-08-25T17:27:00.250941Z\", \"duration\": \"0:00:18\", \"iteration\": \"32\", \"goal\": \"accuracy_max\", \"run_name\": \"VotingEnsemble\", \"run_properties\": \"\\n    estimators=[('21', Pipeline(\\n        memory=None,\\n        steps=[('standardscalerwrapper', StandardScalerWrapper(\\n            copy=True,\\n            with_mean=False,\\n            with_std=False\\n        \", \"primary_metric\": 0.8748227, \"best_metric\": 0.8748227}], \"children_metrics\": {\"categories\": [0], \"series\": {\"recall_score_macro\": [{\"categories\": [\"0\", \"1\", \"2\", \"3\", \"4\", \"5\", \"6\", \"7\", \"8\", \"9\", \"10\", \"11\", \"12\", \"13\", \"14\", \"15\", \"16\", \"17\", \"18\", \"19\", \"20\", \"21\", \"22\", \"23\", \"24\", \"25\", \"26\", \"27\", \"28\", \"29\", \"30\", \"31\", \"32\"], \"mode\": \"markers\", \"name\": \"recall_score_macro\", \"stepped\": false, \"type\": \"scatter\", \"data\": [0.7646356421356422, 0.7821203102453101, 0.7827949134199134, 0.7275117243867244, 0.5146121933621933, 0.8069209956709956, 0.7289808802308803, 0.7468362193362194, 0.5111246392496394, 0.6197790404040404, 0.7579879148629148, 0.8209253246753248, 0.765712481962482, 0.575501443001443, 0.6511724386724387, 0.5964502164502165, 0.6838014069264069, 0.750254329004329, 0.7198719336219336, 0.7924666305916306, 0.7519110750360751, 0.8192568542568542, 0.8002200577200578, 0.7568515512265512, 0.7835182178932178, 0.5, 0.7741242784992785, 0.729143217893218, 0.7770400432900433, 0.7683540764790765, 0.7834992784992785, 0.7832846320346321, 0.8444408369408369]}, {\"categories\": [\"0\", \"1\", \"2\", \"3\", \"4\", \"5\", \"6\", \"7\", \"8\", \"9\", \"10\", \"11\", \"12\", \"13\", \"14\", \"15\", \"16\", \"17\", \"18\", \"19\", \"20\", \"21\", \"22\", \"23\", \"24\", \"25\", \"26\", \"27\", \"28\", \"29\", \"30\", \"31\", \"32\"], \"mode\": \"lines\", \"name\": \"recall_score_macro_max\", \"stepped\": true, \"type\": \"scatter\", \"data\": [0.7646356421356422, 0.7821203102453101, 0.7827949134199134, 0.7827949134199134, 0.7827949134199134, 0.8069209956709956, 0.8069209956709956, 0.8069209956709956, 0.8069209956709956, 0.8069209956709956, 0.8069209956709956, 0.8209253246753248, 0.8209253246753248, 0.8209253246753248, 0.8209253246753248, 0.8209253246753248, 0.8209253246753248, 0.8209253246753248, 0.8209253246753248, 0.8209253246753248, 0.8209253246753248, 0.8209253246753248, 0.8209253246753248, 0.8209253246753248, 0.8209253246753248, 0.8209253246753248, 0.8209253246753248, 0.8209253246753248, 0.8209253246753248, 0.8209253246753248, 0.8209253246753248, 0.8209253246753248, 0.8444408369408369]}], \"accuracy\": [{\"categories\": [\"0\", \"1\", \"2\", \"3\", \"4\", \"5\", \"6\", \"7\", \"8\", \"9\", \"10\", \"11\", \"12\", \"13\", \"14\", \"15\", \"16\", \"17\", \"18\", \"19\", \"20\", \"21\", \"22\", \"23\", \"24\", \"25\", \"26\", \"27\", \"28\", \"29\", \"30\", \"31\", \"32\"], \"mode\": \"markers\", \"name\": \"accuracy\", \"stepped\": false, \"type\": \"scatter\", \"data\": [0.799290780141844, 0.8243794326241135, 0.811790780141844, 0.7830673758865248, 0.5985815602836879, 0.8413120567375886, 0.7490248226950355, 0.8079787234042554, 0.611081560283688, 0.6946808510638298, 0.8036347517730495, 0.8203014184397162, 0.7450354609929078, 0.7156914893617021, 0.7281914893617023, 0.6990248226950355, 0.7534574468085106, 0.8074468085106383, 0.7745567375886525, 0.8327127659574469, 0.799113475177305, 0.8538120567375886, 0.8289007092198581, 0.799645390070922, 0.8204787234042554, 0.6697695035460993, 0.8076241134751772, 0.7908687943262411, 0.8117021276595745, 0.8204787234042554, 0.8159574468085106, 0.8203900709219859, 0.874822695035461]}, {\"categories\": [\"0\", \"1\", \"2\", \"3\", \"4\", \"5\", \"6\", \"7\", \"8\", \"9\", \"10\", \"11\", \"12\", \"13\", \"14\", \"15\", \"16\", \"17\", \"18\", \"19\", \"20\", \"21\", \"22\", \"23\", \"24\", \"25\", \"26\", \"27\", \"28\", \"29\", \"30\", \"31\", \"32\"], \"mode\": \"lines\", \"name\": \"accuracy_max\", \"stepped\": true, \"type\": \"scatter\", \"data\": [0.799290780141844, 0.8243794326241135, 0.8243794326241135, 0.8243794326241135, 0.8243794326241135, 0.8413120567375886, 0.8413120567375886, 0.8413120567375886, 0.8413120567375886, 0.8413120567375886, 0.8413120567375886, 0.8413120567375886, 0.8413120567375886, 0.8413120567375886, 0.8413120567375886, 0.8413120567375886, 0.8413120567375886, 0.8413120567375886, 0.8413120567375886, 0.8413120567375886, 0.8413120567375886, 0.8538120567375886, 0.8538120567375886, 0.8538120567375886, 0.8538120567375886, 0.8538120567375886, 0.8538120567375886, 0.8538120567375886, 0.8538120567375886, 0.8538120567375886, 0.8538120567375886, 0.8538120567375886, 0.874822695035461]}], \"average_precision_score_macro\": [{\"categories\": [\"0\", \"1\", \"2\", \"3\", \"4\", \"5\", \"6\", \"7\", \"8\", \"9\", \"10\", \"11\", \"12\", \"13\", \"14\", \"15\", \"16\", \"17\", \"18\", \"19\", \"20\", \"21\", \"22\", \"23\", \"24\", \"25\", \"26\", \"27\", \"28\", \"29\", \"30\", \"31\", \"32\"], \"mode\": \"markers\", \"name\": \"average_precision_score_macro\", \"stepped\": false, \"type\": \"scatter\", \"data\": [0.8603972381105146, 0.8901818198218845, 0.8634822519256588, 0.8332604649590749, 0.5175725516270395, 0.8905497318108111, 0.8155120584202052, 0.9006295961720422, 0.519028135553798, 0.7160371222345226, 0.8427736161190913, 0.8883868569159497, 0.8509089214439616, 0.8090062283911681, 0.7053005532181768, 0.6799607910389364, 0.7751373408533844, 0.8337536372333995, 0.8616657698779188, 0.8775003113971259, 0.8155221037022249, 0.8850461542038023, 0.8622868306982676, 0.8427235522619625, 0.8480649283110182, 0.5, 0.87535706790482, 0.846766021817092, 0.8600628546538598, 0.8435870076773824, 0.8757089593629814, 0.8758238571114253, 0.8954608486944178]}, {\"categories\": [\"0\", \"1\", \"2\", \"3\", \"4\", \"5\", \"6\", \"7\", \"8\", \"9\", \"10\", \"11\", \"12\", \"13\", \"14\", \"15\", \"16\", \"17\", \"18\", \"19\", \"20\", \"21\", \"22\", \"23\", \"24\", \"25\", \"26\", \"27\", \"28\", \"29\", \"30\", \"31\", \"32\"], \"mode\": \"lines\", \"name\": \"average_precision_score_macro_max\", \"stepped\": true, \"type\": \"scatter\", \"data\": [0.8603972381105146, 0.8901818198218845, 0.8901818198218845, 0.8901818198218845, 0.8901818198218845, 0.8905497318108111, 0.8905497318108111, 0.9006295961720422, 0.9006295961720422, 0.9006295961720422, 0.9006295961720422, 0.9006295961720422, 0.9006295961720422, 0.9006295961720422, 0.9006295961720422, 0.9006295961720422, 0.9006295961720422, 0.9006295961720422, 0.9006295961720422, 0.9006295961720422, 0.9006295961720422, 0.9006295961720422, 0.9006295961720422, 0.9006295961720422, 0.9006295961720422, 0.9006295961720422, 0.9006295961720422, 0.9006295961720422, 0.9006295961720422, 0.9006295961720422, 0.9006295961720422, 0.9006295961720422, 0.9006295961720422]}], \"balanced_accuracy\": [{\"categories\": [\"0\", \"1\", \"2\", \"3\", \"4\", \"5\", \"6\", \"7\", \"8\", \"9\", \"10\", \"11\", \"12\", \"13\", \"14\", \"15\", \"16\", \"17\", \"18\", \"19\", \"20\", \"21\", \"22\", \"23\", \"24\", \"25\", \"26\", \"27\", \"28\", \"29\", \"30\", \"31\", \"32\"], \"mode\": \"markers\", \"name\": \"balanced_accuracy\", \"stepped\": false, \"type\": \"scatter\", \"data\": [0.7646356421356422, 0.7821203102453101, 0.7827949134199134, 0.7275117243867244, 0.5146121933621933, 0.8069209956709956, 0.7289808802308803, 0.7468362193362194, 0.5111246392496394, 0.6197790404040404, 0.7579879148629148, 0.8209253246753248, 0.765712481962482, 0.575501443001443, 0.6511724386724387, 0.5964502164502165, 0.6838014069264069, 0.750254329004329, 0.7198719336219336, 0.7924666305916306, 0.7519110750360751, 0.8192568542568542, 0.8002200577200578, 0.7568515512265512, 0.7835182178932178, 0.5, 0.7741242784992785, 0.729143217893218, 0.7770400432900433, 0.7683540764790765, 0.7834992784992785, 0.7832846320346321, 0.8444408369408369]}, {\"categories\": [\"0\", \"1\", \"2\", \"3\", \"4\", \"5\", \"6\", \"7\", \"8\", \"9\", \"10\", \"11\", \"12\", \"13\", \"14\", \"15\", \"16\", \"17\", \"18\", \"19\", \"20\", \"21\", \"22\", \"23\", \"24\", \"25\", \"26\", \"27\", \"28\", \"29\", \"30\", \"31\", \"32\"], \"mode\": \"lines\", \"name\": \"balanced_accuracy_max\", \"stepped\": true, \"type\": \"scatter\", \"data\": [0.7646356421356422, 0.7821203102453101, 0.7827949134199134, 0.7827949134199134, 0.7827949134199134, 0.8069209956709956, 0.8069209956709956, 0.8069209956709956, 0.8069209956709956, 0.8069209956709956, 0.8069209956709956, 0.8209253246753248, 0.8209253246753248, 0.8209253246753248, 0.8209253246753248, 0.8209253246753248, 0.8209253246753248, 0.8209253246753248, 0.8209253246753248, 0.8209253246753248, 0.8209253246753248, 0.8209253246753248, 0.8209253246753248, 0.8209253246753248, 0.8209253246753248, 0.8209253246753248, 0.8209253246753248, 0.8209253246753248, 0.8209253246753248, 0.8209253246753248, 0.8209253246753248, 0.8209253246753248, 0.8444408369408369]}], \"weighted_accuracy\": [{\"categories\": [\"0\", \"1\", \"2\", \"3\", \"4\", \"5\", \"6\", \"7\", \"8\", \"9\", \"10\", \"11\", \"12\", \"13\", \"14\", \"15\", \"16\", \"17\", \"18\", \"19\", \"20\", \"21\", \"22\", \"23\", \"24\", \"25\", \"26\", \"27\", \"28\", \"29\", \"30\", \"31\", \"32\"], \"mode\": \"markers\", \"name\": \"weighted_accuracy\", \"stepped\": false, \"type\": \"scatter\", \"data\": [0.8247418456961219, 0.855458746853655, 0.8330356369610895, 0.8286348767370504, 0.6605386202130872, 0.8693361866995815, 0.7629242069562648, 0.8565070744569079, 0.6850980387251812, 0.7533490442115788, 0.8395890430579108, 0.821746135359394, 0.7304032481639904, 0.8223584201184, 0.785648335412094, 0.7776997724252553, 0.8095439057979077, 0.8496790963601185, 0.8200509266916589, 0.864645711602231, 0.8342601559570767, 0.8819852600275429, 0.8521508584722101, 0.8348471993238092, 0.8508557945427186, 0.798833818246672, 0.8321666375306638, 0.8372091280251658, 0.8377303662091432, 0.8629300626061085, 0.8396666375306638, 0.8498890183168338, 0.8993739374433343]}, {\"categories\": [\"0\", \"1\", \"2\", \"3\", \"4\", \"5\", \"6\", \"7\", \"8\", \"9\", \"10\", \"11\", \"12\", \"13\", \"14\", \"15\", \"16\", \"17\", \"18\", \"19\", \"20\", \"21\", \"22\", \"23\", \"24\", \"25\", \"26\", \"27\", \"28\", \"29\", \"30\", \"31\", \"32\"], \"mode\": \"lines\", \"name\": \"weighted_accuracy_max\", \"stepped\": true, \"type\": \"scatter\", \"data\": [0.8247418456961219, 0.855458746853655, 0.855458746853655, 0.855458746853655, 0.855458746853655, 0.8693361866995815, 0.8693361866995815, 0.8693361866995815, 0.8693361866995815, 0.8693361866995815, 0.8693361866995815, 0.8693361866995815, 0.8693361866995815, 0.8693361866995815, 0.8693361866995815, 0.8693361866995815, 0.8693361866995815, 0.8693361866995815, 0.8693361866995815, 0.8693361866995815, 0.8693361866995815, 0.8819852600275429, 0.8819852600275429, 0.8819852600275429, 0.8819852600275429, 0.8819852600275429, 0.8819852600275429, 0.8819852600275429, 0.8819852600275429, 0.8819852600275429, 0.8819852600275429, 0.8819852600275429, 0.8993739374433343]}], \"average_precision_score_micro\": [{\"categories\": [\"0\", \"1\", \"2\", \"3\", \"4\", \"5\", \"6\", \"7\", \"8\", \"9\", \"10\", \"11\", \"12\", \"13\", \"14\", \"15\", \"16\", \"17\", \"18\", \"19\", \"20\", \"21\", \"22\", \"23\", \"24\", \"25\", \"26\", \"27\", \"28\", \"29\", \"30\", \"31\", \"32\"], \"mode\": \"markers\", \"name\": \"average_precision_score_micro\", \"stepped\": false, \"type\": \"scatter\", \"data\": [0.8982130318457161, 0.9158674580511432, 0.8909236303760043, 0.8667873055620184, 0.5745858400210413, 0.9136322237253994, 0.8474777997577265, 0.8972671350868898, 0.5882399131918642, 0.7819269388132748, 0.8743314268131014, 0.9077698591442964, 0.8344193373688322, 0.8275141665193854, 0.7623532811744951, 0.7572354371331624, 0.8086726772281022, 0.8742322938842004, 0.8814051557898746, 0.8993922445863308, 0.8639177171364754, 0.9060078342822239, 0.8955755564873152, 0.8775370462415317, 0.8869604089705654, 0.6156953011040691, 0.9036908644355147, 0.8716270930842093, 0.88951185030178, 0.8782503850893306, 0.9045766049879335, 0.9052660919181429, 0.9178066508389462]}, {\"categories\": [\"0\", \"1\", \"2\", \"3\", \"4\", \"5\", \"6\", \"7\", \"8\", \"9\", \"10\", \"11\", \"12\", \"13\", \"14\", \"15\", \"16\", \"17\", \"18\", \"19\", \"20\", \"21\", \"22\", \"23\", \"24\", \"25\", \"26\", \"27\", \"28\", \"29\", \"30\", \"31\", \"32\"], \"mode\": \"lines\", \"name\": \"average_precision_score_micro_max\", \"stepped\": true, \"type\": \"scatter\", \"data\": [0.8982130318457161, 0.9158674580511432, 0.9158674580511432, 0.9158674580511432, 0.9158674580511432, 0.9158674580511432, 0.9158674580511432, 0.9158674580511432, 0.9158674580511432, 0.9158674580511432, 0.9158674580511432, 0.9158674580511432, 0.9158674580511432, 0.9158674580511432, 0.9158674580511432, 0.9158674580511432, 0.9158674580511432, 0.9158674580511432, 0.9158674580511432, 0.9158674580511432, 0.9158674580511432, 0.9158674580511432, 0.9158674580511432, 0.9158674580511432, 0.9158674580511432, 0.9158674580511432, 0.9158674580511432, 0.9158674580511432, 0.9158674580511432, 0.9158674580511432, 0.9158674580511432, 0.9158674580511432, 0.9178066508389462]}], \"precision_score_macro\": [{\"categories\": [\"0\", \"1\", \"2\", \"3\", \"4\", \"5\", \"6\", \"7\", \"8\", \"9\", \"10\", \"11\", \"12\", \"13\", \"14\", \"15\", \"16\", \"17\", \"18\", \"19\", \"20\", \"21\", \"22\", \"23\", \"24\", \"25\", \"26\", \"27\", \"28\", \"29\", \"30\", \"31\", \"32\"], \"mode\": \"markers\", \"name\": \"precision_score_macro\", \"stepped\": false, \"type\": \"scatter\", \"data\": [0.7738160319410319, 0.8076501860712387, 0.7845670311135207, 0.7729107225392056, 0.518904918610801, 0.8319559607059606, 0.7189856344635757, 0.8098859473859473, 0.5106268720581942, 0.6499787838023132, 0.7836979686979687, 0.7968993297219361, 0.7337728481104161, 0.7862672222732889, 0.691002024291498, 0.6661316169210906, 0.7440394125706243, 0.7910969585969586, 0.7608205743691945, 0.8230589671766142, 0.7800439288674583, 0.8478542752072163, 0.8105181093416387, 0.7833625886567063, 0.8068027070968247, 0.33488475177304966, 0.7846311446430042, 0.7739441101670202, 0.7910469576363914, 0.8254811339331463, 0.7937393040357936, 0.8039840225134343, 0.8721644042232277]}, {\"categories\": [\"0\", \"1\", \"2\", \"3\", \"4\", \"5\", \"6\", \"7\", \"8\", \"9\", \"10\", \"11\", \"12\", \"13\", \"14\", \"15\", \"16\", \"17\", \"18\", \"19\", \"20\", \"21\", \"22\", \"23\", \"24\", \"25\", \"26\", \"27\", \"28\", \"29\", \"30\", \"31\", \"32\"], \"mode\": \"lines\", \"name\": \"precision_score_macro_max\", \"stepped\": true, \"type\": \"scatter\", \"data\": [0.7738160319410319, 0.8076501860712387, 0.8076501860712387, 0.8076501860712387, 0.8076501860712387, 0.8319559607059606, 0.8319559607059606, 0.8319559607059606, 0.8319559607059606, 0.8319559607059606, 0.8319559607059606, 0.8319559607059606, 0.8319559607059606, 0.8319559607059606, 0.8319559607059606, 0.8319559607059606, 0.8319559607059606, 0.8319559607059606, 0.8319559607059606, 0.8319559607059606, 0.8319559607059606, 0.8478542752072163, 0.8478542752072163, 0.8478542752072163, 0.8478542752072163, 0.8478542752072163, 0.8478542752072163, 0.8478542752072163, 0.8478542752072163, 0.8478542752072163, 0.8478542752072163, 0.8478542752072163, 0.8721644042232277]}], \"AUC_macro\": [{\"categories\": [\"0\", \"1\", \"2\", \"3\", \"4\", \"5\", \"6\", \"7\", \"8\", \"9\", \"10\", \"11\", \"12\", \"13\", \"14\", \"15\", \"16\", \"17\", \"18\", \"19\", \"20\", \"21\", \"22\", \"23\", \"24\", \"25\", \"26\", \"27\", \"28\", \"29\", \"30\", \"31\", \"32\"], \"mode\": \"markers\", \"name\": \"AUC_macro\", \"stepped\": false, \"type\": \"scatter\", \"data\": [0.880044642857143, 0.9004091886123137, 0.8707767781986533, 0.8423249233405483, 0.4677227257696007, 0.9071861659752285, 0.8338804713804715, 0.917901222041847, 0.4717509920634921, 0.7490242454304955, 0.8567459941678692, 0.9033944730038479, 0.8596636378667629, 0.8181580687830687, 0.7269447826479076, 0.7036834490740741, 0.776342367123617, 0.8484213789682539, 0.8785625225468976, 0.8903831469456469, 0.833490597943723, 0.9022557983104859, 0.8812954695767197, 0.8611327937109188, 0.8694367784992785, 0.5, 0.8883196173039923, 0.8606436011904762, 0.8723825306637807, 0.8682642646705148, 0.8868518142736892, 0.892341795935546, 0.9087198998917749]}, {\"categories\": [\"0\", \"1\", \"2\", \"3\", \"4\", \"5\", \"6\", \"7\", \"8\", \"9\", \"10\", \"11\", \"12\", \"13\", \"14\", \"15\", \"16\", \"17\", \"18\", \"19\", \"20\", \"21\", \"22\", \"23\", \"24\", \"25\", \"26\", \"27\", \"28\", \"29\", \"30\", \"31\", \"32\"], \"mode\": \"lines\", \"name\": \"AUC_macro_max\", \"stepped\": true, \"type\": \"scatter\", \"data\": [0.880044642857143, 0.9004091886123137, 0.9004091886123137, 0.9004091886123137, 0.9004091886123137, 0.9071861659752285, 0.9071861659752285, 0.917901222041847, 0.917901222041847, 0.917901222041847, 0.917901222041847, 0.917901222041847, 0.917901222041847, 0.917901222041847, 0.917901222041847, 0.917901222041847, 0.917901222041847, 0.917901222041847, 0.917901222041847, 0.917901222041847, 0.917901222041847, 0.917901222041847, 0.917901222041847, 0.917901222041847, 0.917901222041847, 0.917901222041847, 0.917901222041847, 0.917901222041847, 0.917901222041847, 0.917901222041847, 0.917901222041847, 0.917901222041847, 0.917901222041847]}], \"log_loss\": [{\"categories\": [\"0\", \"1\", \"2\", \"3\", \"4\", \"5\", \"6\", \"7\", \"8\", \"9\", \"10\", \"11\", \"12\", \"13\", \"14\", \"15\", \"16\", \"17\", \"18\", \"19\", \"20\", \"21\", \"22\", \"23\", \"24\", \"25\", \"26\", \"27\", \"28\", \"29\", \"30\", \"31\", \"32\"], \"mode\": \"markers\", \"name\": \"log_loss\", \"stepped\": false, \"type\": \"scatter\", \"data\": [0.48094789554284045, 0.40389855060619545, 0.5367527846034016, 0.5303209020711859, 2.4311285041548034, 0.3974483993846733, 0.49259914843458324, 0.4719181385280956, 1.6081392207763472, 0.5671362099981507, 0.5120495625855114, 0.4726307424515846, 0.5007745245959722, 0.5215392347978999, 2.5536995871279453, 1.2551332100178136, 0.6593748217993888, 0.44628732500885865, 0.5274110625640983, 0.5019832837904931, 0.46775716431079867, 0.46664425086547523, 0.4052714429757069, 0.4829082343178028, 0.4347391271869592, 0.6444014690020983, 0.4058797662320323, 0.5070343326870178, 0.5254790581770563, 0.44523131102254937, 0.4054606526410927, 0.3932231936224227, 0.4011158476471254]}, {\"categories\": [\"0\", \"1\", \"2\", \"3\", \"4\", \"5\", \"6\", \"7\", \"8\", \"9\", \"10\", \"11\", \"12\", \"13\", \"14\", \"15\", \"16\", \"17\", \"18\", \"19\", \"20\", \"21\", \"22\", \"23\", \"24\", \"25\", \"26\", \"27\", \"28\", \"29\", \"30\", \"31\", \"32\"], \"mode\": \"lines\", \"name\": \"log_loss_min\", \"stepped\": true, \"type\": \"scatter\", \"data\": [0.48094789554284045, 0.40389855060619545, 0.40389855060619545, 0.40389855060619545, 0.40389855060619545, 0.3974483993846733, 0.3974483993846733, 0.3974483993846733, 0.3974483993846733, 0.3974483993846733, 0.3974483993846733, 0.3974483993846733, 0.3974483993846733, 0.3974483993846733, 0.3974483993846733, 0.3974483993846733, 0.3974483993846733, 0.3974483993846733, 0.3974483993846733, 0.3974483993846733, 0.3974483993846733, 0.3974483993846733, 0.3974483993846733, 0.3974483993846733, 0.3974483993846733, 0.3974483993846733, 0.3974483993846733, 0.3974483993846733, 0.3974483993846733, 0.3974483993846733, 0.3974483993846733, 0.3932231936224227, 0.3932231936224227]}], \"precision_score_weighted\": [{\"categories\": [\"0\", \"1\", \"2\", \"3\", \"4\", \"5\", \"6\", \"7\", \"8\", \"9\", \"10\", \"11\", \"12\", \"13\", \"14\", \"15\", \"16\", \"17\", \"18\", \"19\", \"20\", \"21\", \"22\", \"23\", \"24\", \"25\", \"26\", \"27\", \"28\", \"29\", \"30\", \"31\", \"32\"], \"mode\": \"markers\", \"name\": \"precision_score_weighted\", \"stepped\": false, \"type\": \"scatter\", \"data\": [0.7992402632927899, 0.8230455167577228, 0.8115281750998271, 0.785167096943001, 0.579021942457487, 0.8432842312829015, 0.7602205461999931, 0.8127202897083217, 0.5734715109539114, 0.6850068112466423, 0.8005653212036192, 0.8336088195092038, 0.7866100435442445, 0.7667253695659779, 0.7171672530970544, 0.6883073051746064, 0.7586446806112683, 0.8052569593527041, 0.7761622015909426, 0.8356560404667415, 0.800157687463695, 0.8562174387197855, 0.8280696578834877, 0.7994482704432642, 0.8216654395354333, 0.45058005287711883, 0.8084812110770845, 0.7886782755121468, 0.813470097526088, 0.8287806957818814, 0.8167038549733526, 0.8194968396399872, 0.8761033996249891]}, {\"categories\": [\"0\", \"1\", \"2\", \"3\", \"4\", \"5\", \"6\", \"7\", \"8\", \"9\", \"10\", \"11\", \"12\", \"13\", \"14\", \"15\", \"16\", \"17\", \"18\", \"19\", \"20\", \"21\", \"22\", \"23\", \"24\", \"25\", \"26\", \"27\", \"28\", \"29\", \"30\", \"31\", \"32\"], \"mode\": \"lines\", \"name\": \"precision_score_weighted_max\", \"stepped\": true, \"type\": \"scatter\", \"data\": [0.7992402632927899, 0.8230455167577228, 0.8230455167577228, 0.8230455167577228, 0.8230455167577228, 0.8432842312829015, 0.8432842312829015, 0.8432842312829015, 0.8432842312829015, 0.8432842312829015, 0.8432842312829015, 0.8432842312829015, 0.8432842312829015, 0.8432842312829015, 0.8432842312829015, 0.8432842312829015, 0.8432842312829015, 0.8432842312829015, 0.8432842312829015, 0.8432842312829015, 0.8432842312829015, 0.8562174387197855, 0.8562174387197855, 0.8562174387197855, 0.8562174387197855, 0.8562174387197855, 0.8562174387197855, 0.8562174387197855, 0.8562174387197855, 0.8562174387197855, 0.8562174387197855, 0.8562174387197855, 0.8761033996249891]}], \"precision_score_micro\": [{\"categories\": [\"0\", \"1\", \"2\", \"3\", \"4\", \"5\", \"6\", \"7\", \"8\", \"9\", \"10\", \"11\", \"12\", \"13\", \"14\", \"15\", \"16\", \"17\", \"18\", \"19\", \"20\", \"21\", \"22\", \"23\", \"24\", \"25\", \"26\", \"27\", \"28\", \"29\", \"30\", \"31\", \"32\"], \"mode\": \"markers\", \"name\": \"precision_score_micro\", \"stepped\": false, \"type\": \"scatter\", \"data\": [0.799290780141844, 0.8243794326241135, 0.811790780141844, 0.7830673758865248, 0.5985815602836879, 0.8413120567375886, 0.7490248226950355, 0.8079787234042554, 0.611081560283688, 0.6946808510638298, 0.8036347517730495, 0.8203014184397162, 0.7450354609929078, 0.7156914893617021, 0.7281914893617023, 0.6990248226950355, 0.7534574468085106, 0.8074468085106383, 0.7745567375886525, 0.8327127659574469, 0.799113475177305, 0.8538120567375886, 0.8289007092198581, 0.799645390070922, 0.8204787234042554, 0.6697695035460993, 0.8076241134751772, 0.7908687943262411, 0.8117021276595745, 0.8204787234042554, 0.8159574468085106, 0.8203900709219859, 0.874822695035461]}, {\"categories\": [\"0\", \"1\", \"2\", \"3\", \"4\", \"5\", \"6\", \"7\", \"8\", \"9\", \"10\", \"11\", \"12\", \"13\", \"14\", \"15\", \"16\", \"17\", \"18\", \"19\", \"20\", \"21\", \"22\", \"23\", \"24\", \"25\", \"26\", \"27\", \"28\", \"29\", \"30\", \"31\", \"32\"], \"mode\": \"lines\", \"name\": \"precision_score_micro_max\", \"stepped\": true, \"type\": \"scatter\", \"data\": [0.799290780141844, 0.8243794326241135, 0.8243794326241135, 0.8243794326241135, 0.8243794326241135, 0.8413120567375886, 0.8413120567375886, 0.8413120567375886, 0.8413120567375886, 0.8413120567375886, 0.8413120567375886, 0.8413120567375886, 0.8413120567375886, 0.8413120567375886, 0.8413120567375886, 0.8413120567375886, 0.8413120567375886, 0.8413120567375886, 0.8413120567375886, 0.8413120567375886, 0.8413120567375886, 0.8538120567375886, 0.8538120567375886, 0.8538120567375886, 0.8538120567375886, 0.8538120567375886, 0.8538120567375886, 0.8538120567375886, 0.8538120567375886, 0.8538120567375886, 0.8538120567375886, 0.8538120567375886, 0.874822695035461]}], \"recall_score_weighted\": [{\"categories\": [\"0\", \"1\", \"2\", \"3\", \"4\", \"5\", \"6\", \"7\", \"8\", \"9\", \"10\", \"11\", \"12\", \"13\", \"14\", \"15\", \"16\", \"17\", \"18\", \"19\", \"20\", \"21\", \"22\", \"23\", \"24\", \"25\", \"26\", \"27\", \"28\", \"29\", \"30\", \"31\", \"32\"], \"mode\": \"markers\", \"name\": \"recall_score_weighted\", \"stepped\": false, \"type\": \"scatter\", \"data\": [0.799290780141844, 0.8243794326241135, 0.811790780141844, 0.7830673758865248, 0.5985815602836879, 0.8413120567375886, 0.7490248226950355, 0.8079787234042554, 0.611081560283688, 0.6946808510638298, 0.8036347517730495, 0.8203014184397162, 0.7450354609929078, 0.7156914893617021, 0.7281914893617023, 0.6990248226950355, 0.7534574468085106, 0.8074468085106383, 0.7745567375886525, 0.8327127659574469, 0.799113475177305, 0.8538120567375886, 0.8289007092198581, 0.799645390070922, 0.8204787234042554, 0.6697695035460993, 0.8076241134751772, 0.7908687943262411, 0.8117021276595745, 0.8204787234042554, 0.8159574468085106, 0.8203900709219859, 0.874822695035461]}, {\"categories\": [\"0\", \"1\", \"2\", \"3\", \"4\", \"5\", \"6\", \"7\", \"8\", \"9\", \"10\", \"11\", \"12\", \"13\", \"14\", \"15\", \"16\", \"17\", \"18\", \"19\", \"20\", \"21\", \"22\", \"23\", \"24\", \"25\", \"26\", \"27\", \"28\", \"29\", \"30\", \"31\", \"32\"], \"mode\": \"lines\", \"name\": \"recall_score_weighted_max\", \"stepped\": true, \"type\": \"scatter\", \"data\": [0.799290780141844, 0.8243794326241135, 0.8243794326241135, 0.8243794326241135, 0.8243794326241135, 0.8413120567375886, 0.8413120567375886, 0.8413120567375886, 0.8413120567375886, 0.8413120567375886, 0.8413120567375886, 0.8413120567375886, 0.8413120567375886, 0.8413120567375886, 0.8413120567375886, 0.8413120567375886, 0.8413120567375886, 0.8413120567375886, 0.8413120567375886, 0.8413120567375886, 0.8413120567375886, 0.8538120567375886, 0.8538120567375886, 0.8538120567375886, 0.8538120567375886, 0.8538120567375886, 0.8538120567375886, 0.8538120567375886, 0.8538120567375886, 0.8538120567375886, 0.8538120567375886, 0.8538120567375886, 0.874822695035461]}], \"f1_score_macro\": [{\"categories\": [\"0\", \"1\", \"2\", \"3\", \"4\", \"5\", \"6\", \"7\", \"8\", \"9\", \"10\", \"11\", \"12\", \"13\", \"14\", \"15\", \"16\", \"17\", \"18\", \"19\", \"20\", \"21\", \"22\", \"23\", \"24\", \"25\", \"26\", \"27\", \"28\", \"29\", \"30\", \"31\", \"32\"], \"mode\": \"markers\", \"name\": \"f1_score_macro\", \"stepped\": false, \"type\": \"scatter\", \"data\": [0.7670578925607389, 0.7915393645486443, 0.7834108544686238, 0.7323583393967026, 0.5129102506806491, 0.8131294127317558, 0.721069050951865, 0.7569902984806726, 0.5024149475408056, 0.6192444786179074, 0.763072117291563, 0.8034788157902103, 0.7328378561747552, 0.5459070346932995, 0.6571912501110464, 0.5903181903412617, 0.6838388278388278, 0.7619086797265165, 0.7190454319727975, 0.8005613333801499, 0.7596866263611994, 0.8266019250594059, 0.8033676975808856, 0.7606949775529439, 0.788417578076847, 0.40069348898617185, 0.7771323632092134, 0.7417141044630091, 0.7793164834223245, 0.7772062517133975, 0.7863675724444226, 0.7897455402890186, 0.8540131393524986]}, {\"categories\": [\"0\", \"1\", \"2\", \"3\", \"4\", \"5\", \"6\", \"7\", \"8\", \"9\", \"10\", \"11\", \"12\", \"13\", \"14\", \"15\", \"16\", \"17\", \"18\", \"19\", \"20\", \"21\", \"22\", \"23\", \"24\", \"25\", \"26\", \"27\", \"28\", \"29\", \"30\", \"31\", \"32\"], \"mode\": \"lines\", \"name\": \"f1_score_macro_max\", \"stepped\": true, \"type\": \"scatter\", \"data\": [0.7670578925607389, 0.7915393645486443, 0.7915393645486443, 0.7915393645486443, 0.7915393645486443, 0.8131294127317558, 0.8131294127317558, 0.8131294127317558, 0.8131294127317558, 0.8131294127317558, 0.8131294127317558, 0.8131294127317558, 0.8131294127317558, 0.8131294127317558, 0.8131294127317558, 0.8131294127317558, 0.8131294127317558, 0.8131294127317558, 0.8131294127317558, 0.8131294127317558, 0.8131294127317558, 0.8266019250594059, 0.8266019250594059, 0.8266019250594059, 0.8266019250594059, 0.8266019250594059, 0.8266019250594059, 0.8266019250594059, 0.8266019250594059, 0.8266019250594059, 0.8266019250594059, 0.8266019250594059, 0.8540131393524986]}], \"f1_score_weighted\": [{\"categories\": [\"0\", \"1\", \"2\", \"3\", \"4\", \"5\", \"6\", \"7\", \"8\", \"9\", \"10\", \"11\", \"12\", \"13\", \"14\", \"15\", \"16\", \"17\", \"18\", \"19\", \"20\", \"21\", \"22\", \"23\", \"24\", \"25\", \"26\", \"27\", \"28\", \"29\", \"30\", \"31\", \"32\"], \"mode\": \"markers\", \"name\": \"f1_score_weighted\", \"stepped\": false, \"type\": \"scatter\", \"data\": [0.7975746987299736, 0.8212145300306843, 0.811435557199929, 0.7693650556453517, 0.585560791759417, 0.8372639293136427, 0.7520502262977421, 0.793582850546471, 0.5850641592062791, 0.6767859940873625, 0.7958053468652713, 0.8229835598255072, 0.7515175748971787, 0.64177380187003, 0.7119564536279803, 0.6624142211059175, 0.7325306404067355, 0.799470305206104, 0.758144256381224, 0.8281969004796137, 0.7944197183199313, 0.849523631049834, 0.8267968297625915, 0.7918363585526482, 0.8155420964343145, 0.5381520291198547, 0.8062764238400242, 0.7819263359348531, 0.808906775892793, 0.8092059604311093, 0.8145496321132324, 0.8167611511685285, 0.8718589308820899]}, {\"categories\": [\"0\", \"1\", \"2\", \"3\", \"4\", \"5\", \"6\", \"7\", \"8\", \"9\", \"10\", \"11\", \"12\", \"13\", \"14\", \"15\", \"16\", \"17\", \"18\", \"19\", \"20\", \"21\", \"22\", \"23\", \"24\", \"25\", \"26\", \"27\", \"28\", \"29\", \"30\", \"31\", \"32\"], \"mode\": \"lines\", \"name\": \"f1_score_weighted_max\", \"stepped\": true, \"type\": \"scatter\", \"data\": [0.7975746987299736, 0.8212145300306843, 0.8212145300306843, 0.8212145300306843, 0.8212145300306843, 0.8372639293136427, 0.8372639293136427, 0.8372639293136427, 0.8372639293136427, 0.8372639293136427, 0.8372639293136427, 0.8372639293136427, 0.8372639293136427, 0.8372639293136427, 0.8372639293136427, 0.8372639293136427, 0.8372639293136427, 0.8372639293136427, 0.8372639293136427, 0.8372639293136427, 0.8372639293136427, 0.849523631049834, 0.849523631049834, 0.849523631049834, 0.849523631049834, 0.849523631049834, 0.849523631049834, 0.849523631049834, 0.849523631049834, 0.849523631049834, 0.849523631049834, 0.849523631049834, 0.8718589308820899]}], \"AUC_micro\": [{\"categories\": [\"0\", \"1\", \"2\", \"3\", \"4\", \"5\", \"6\", \"7\", \"8\", \"9\", \"10\", \"11\", \"12\", \"13\", \"14\", \"15\", \"16\", \"17\", \"18\", \"19\", \"20\", \"21\", \"22\", \"23\", \"24\", \"25\", \"26\", \"27\", \"28\", \"29\", \"30\", \"31\", \"32\"], \"mode\": \"markers\", \"name\": \"AUC_micro\", \"stepped\": false, \"type\": \"scatter\", \"data\": [0.893122830843519, 0.9108161922815754, 0.885903037133444, 0.8618476026105327, 0.5946164837030331, 0.9119931954504301, 0.8481818774835268, 0.8955309482043157, 0.6162861211709674, 0.7805814321777074, 0.8701473375961974, 0.9081849897515214, 0.8353206264775412, 0.8213542845556059, 0.7840960747698806, 0.7604373758236508, 0.8198207066420199, 0.8713187999849101, 0.8775472656053518, 0.897698297054977, 0.8636724447965394, 0.909887463218651, 0.8944967478371308, 0.8760389159247524, 0.8848445516447864, 0.6697695035460993, 0.8995893535284946, 0.8773764838287812, 0.8866254998491021, 0.8818343361752425, 0.9006758179920528, 0.9041891048614256, 0.9150911202907299]}, {\"categories\": [\"0\", \"1\", \"2\", \"3\", \"4\", \"5\", \"6\", \"7\", \"8\", \"9\", \"10\", \"11\", \"12\", \"13\", \"14\", \"15\", \"16\", \"17\", \"18\", \"19\", \"20\", \"21\", \"22\", \"23\", \"24\", \"25\", \"26\", \"27\", \"28\", \"29\", \"30\", \"31\", \"32\"], \"mode\": \"lines\", \"name\": \"AUC_micro_max\", \"stepped\": true, \"type\": \"scatter\", \"data\": [0.893122830843519, 0.9108161922815754, 0.9108161922815754, 0.9108161922815754, 0.9108161922815754, 0.9119931954504301, 0.9119931954504301, 0.9119931954504301, 0.9119931954504301, 0.9119931954504301, 0.9119931954504301, 0.9119931954504301, 0.9119931954504301, 0.9119931954504301, 0.9119931954504301, 0.9119931954504301, 0.9119931954504301, 0.9119931954504301, 0.9119931954504301, 0.9119931954504301, 0.9119931954504301, 0.9119931954504301, 0.9119931954504301, 0.9119931954504301, 0.9119931954504301, 0.9119931954504301, 0.9119931954504301, 0.9119931954504301, 0.9119931954504301, 0.9119931954504301, 0.9119931954504301, 0.9119931954504301, 0.9150911202907299]}], \"average_precision_score_weighted\": [{\"categories\": [\"0\", \"1\", \"2\", \"3\", \"4\", \"5\", \"6\", \"7\", \"8\", \"9\", \"10\", \"11\", \"12\", \"13\", \"14\", \"15\", \"16\", \"17\", \"18\", \"19\", \"20\", \"21\", \"22\", \"23\", \"24\", \"25\", \"26\", \"27\", \"28\", \"29\", \"30\", \"31\", \"32\"], \"mode\": \"markers\", \"name\": \"average_precision_score_weighted\", \"stepped\": false, \"type\": \"scatter\", \"data\": [0.889002335110011, 0.9104555789987243, 0.8881935175537967, 0.8618918445268455, 0.5632580886068854, 0.9114185738117465, 0.8487013414706217, 0.9192654973599946, 0.5639113246355087, 0.7710533984727741, 0.8699990528489632, 0.9090632141113975, 0.8731112897917933, 0.8424875585152634, 0.7439530764151101, 0.7317795301723325, 0.8026059183644867, 0.8656506839981368, 0.8850769185160642, 0.8998152292982846, 0.8486577810277243, 0.9042101805122797, 0.8871935264707064, 0.8708181414327903, 0.8787546534746233, 0.5616210986620391, 0.8983529201714218, 0.8710970658461805, 0.8867217065685311, 0.8706032168483292, 0.89784180113476, 0.8992365821727055, 0.9144744036682599]}, {\"categories\": [\"0\", \"1\", \"2\", \"3\", \"4\", \"5\", \"6\", \"7\", \"8\", \"9\", \"10\", \"11\", \"12\", \"13\", \"14\", \"15\", \"16\", \"17\", \"18\", \"19\", \"20\", \"21\", \"22\", \"23\", \"24\", \"25\", \"26\", \"27\", \"28\", \"29\", \"30\", \"31\", \"32\"], \"mode\": \"lines\", \"name\": \"average_precision_score_weighted_max\", \"stepped\": true, \"type\": \"scatter\", \"data\": [0.889002335110011, 0.9104555789987243, 0.9104555789987243, 0.9104555789987243, 0.9104555789987243, 0.9114185738117465, 0.9114185738117465, 0.9192654973599946, 0.9192654973599946, 0.9192654973599946, 0.9192654973599946, 0.9192654973599946, 0.9192654973599946, 0.9192654973599946, 0.9192654973599946, 0.9192654973599946, 0.9192654973599946, 0.9192654973599946, 0.9192654973599946, 0.9192654973599946, 0.9192654973599946, 0.9192654973599946, 0.9192654973599946, 0.9192654973599946, 0.9192654973599946, 0.9192654973599946, 0.9192654973599946, 0.9192654973599946, 0.9192654973599946, 0.9192654973599946, 0.9192654973599946, 0.9192654973599946, 0.9192654973599946]}], \"recall_score_micro\": [{\"categories\": [\"0\", \"1\", \"2\", \"3\", \"4\", \"5\", \"6\", \"7\", \"8\", \"9\", \"10\", \"11\", \"12\", \"13\", \"14\", \"15\", \"16\", \"17\", \"18\", \"19\", \"20\", \"21\", \"22\", \"23\", \"24\", \"25\", \"26\", \"27\", \"28\", \"29\", \"30\", \"31\", \"32\"], \"mode\": \"markers\", \"name\": \"recall_score_micro\", \"stepped\": false, \"type\": \"scatter\", \"data\": [0.799290780141844, 0.8243794326241135, 0.811790780141844, 0.7830673758865248, 0.5985815602836879, 0.8413120567375886, 0.7490248226950355, 0.8079787234042554, 0.611081560283688, 0.6946808510638298, 0.8036347517730495, 0.8203014184397162, 0.7450354609929078, 0.7156914893617021, 0.7281914893617023, 0.6990248226950355, 0.7534574468085106, 0.8074468085106383, 0.7745567375886525, 0.8327127659574469, 0.799113475177305, 0.8538120567375886, 0.8289007092198581, 0.799645390070922, 0.8204787234042554, 0.6697695035460993, 0.8076241134751772, 0.7908687943262411, 0.8117021276595745, 0.8204787234042554, 0.8159574468085106, 0.8203900709219859, 0.874822695035461]}, {\"categories\": [\"0\", \"1\", \"2\", \"3\", \"4\", \"5\", \"6\", \"7\", \"8\", \"9\", \"10\", \"11\", \"12\", \"13\", \"14\", \"15\", \"16\", \"17\", \"18\", \"19\", \"20\", \"21\", \"22\", \"23\", \"24\", \"25\", \"26\", \"27\", \"28\", \"29\", \"30\", \"31\", \"32\"], \"mode\": \"lines\", \"name\": \"recall_score_micro_max\", \"stepped\": true, \"type\": \"scatter\", \"data\": [0.799290780141844, 0.8243794326241135, 0.8243794326241135, 0.8243794326241135, 0.8243794326241135, 0.8413120567375886, 0.8413120567375886, 0.8413120567375886, 0.8413120567375886, 0.8413120567375886, 0.8413120567375886, 0.8413120567375886, 0.8413120567375886, 0.8413120567375886, 0.8413120567375886, 0.8413120567375886, 0.8413120567375886, 0.8413120567375886, 0.8413120567375886, 0.8413120567375886, 0.8413120567375886, 0.8538120567375886, 0.8538120567375886, 0.8538120567375886, 0.8538120567375886, 0.8538120567375886, 0.8538120567375886, 0.8538120567375886, 0.8538120567375886, 0.8538120567375886, 0.8538120567375886, 0.8538120567375886, 0.874822695035461]}], \"matthews_correlation\": [{\"categories\": [\"0\", \"1\", \"2\", \"3\", \"4\", \"5\", \"6\", \"7\", \"8\", \"9\", \"10\", \"11\", \"12\", \"13\", \"14\", \"15\", \"16\", \"17\", \"18\", \"19\", \"20\", \"21\", \"22\", \"23\", \"24\", \"25\", \"26\", \"27\", \"28\", \"29\", \"30\", \"31\", \"32\"], \"mode\": \"markers\", \"name\": \"matthews_correlation\", \"stepped\": false, \"type\": \"scatter\", \"data\": [0.5380316292663486, 0.5888818379054503, 0.5673220429519314, 0.49619841346477056, 0.03335233679997811, 0.6374571300078216, 0.44778378011711756, 0.5506003556079937, 0.022132271040253025, 0.2669320055208551, 0.5400491309941585, 0.6167796509471104, 0.49802373818155543, 0.2895835604892664, 0.3389043418792696, 0.24835720749556148, 0.41843044800042756, 0.5392622510436051, 0.47547766459602264, 0.6140323394303018, 0.530715471990679, 0.6654871049532263, 0.6104097290038254, 0.538280865444955, 0.5889619307870945, 0.0, 0.5583039580074759, 0.5008002969624723, 0.5668687800564585, 0.5882652876768326, 0.576785191116487, 0.5865110258242654, 0.7158028322082106]}, {\"categories\": [\"0\", \"1\", \"2\", \"3\", \"4\", \"5\", \"6\", \"7\", \"8\", \"9\", \"10\", \"11\", \"12\", \"13\", \"14\", \"15\", \"16\", \"17\", \"18\", \"19\", \"20\", \"21\", \"22\", \"23\", \"24\", \"25\", \"26\", \"27\", \"28\", \"29\", \"30\", \"31\", \"32\"], \"mode\": \"lines\", \"name\": \"matthews_correlation_max\", \"stepped\": true, \"type\": \"scatter\", \"data\": [0.5380316292663486, 0.5888818379054503, 0.5888818379054503, 0.5888818379054503, 0.5888818379054503, 0.6374571300078216, 0.6374571300078216, 0.6374571300078216, 0.6374571300078216, 0.6374571300078216, 0.6374571300078216, 0.6374571300078216, 0.6374571300078216, 0.6374571300078216, 0.6374571300078216, 0.6374571300078216, 0.6374571300078216, 0.6374571300078216, 0.6374571300078216, 0.6374571300078216, 0.6374571300078216, 0.6654871049532263, 0.6654871049532263, 0.6654871049532263, 0.6654871049532263, 0.6654871049532263, 0.6654871049532263, 0.6654871049532263, 0.6654871049532263, 0.6654871049532263, 0.6654871049532263, 0.6654871049532263, 0.7158028322082106]}], \"norm_macro_recall\": [{\"categories\": [\"0\", \"1\", \"2\", \"3\", \"4\", \"5\", \"6\", \"7\", \"8\", \"9\", \"10\", \"11\", \"12\", \"13\", \"14\", \"15\", \"16\", \"17\", \"18\", \"19\", \"20\", \"21\", \"22\", \"23\", \"24\", \"25\", \"26\", \"27\", \"28\", \"29\", \"30\", \"31\", \"32\"], \"mode\": \"markers\", \"name\": \"norm_macro_recall\", \"stepped\": false, \"type\": \"scatter\", \"data\": [0.5292712842712842, 0.5642406204906204, 0.5655898268398267, 0.4550234487734488, 0.06888888888888892, 0.6138419913419912, 0.45796176046176046, 0.4936724386724386, 0.0404040404040404, 0.23955808080808083, 0.5159758297258297, 0.6418506493506494, 0.531424963924964, 0.15100288600288597, 0.30234487734487736, 0.19290043290043296, 0.3676028138528139, 0.500508658008658, 0.4397438672438672, 0.5849332611832613, 0.50382215007215, 0.6385137085137085, 0.6004401154401153, 0.5137031024531025, 0.5670364357864358, 0.0, 0.5482485569985569, 0.45828643578643574, 0.5540800865800866, 0.536708152958153, 0.566998556998557, 0.566569264069264, 0.6888816738816739]}, {\"categories\": [\"0\", \"1\", \"2\", \"3\", \"4\", \"5\", \"6\", \"7\", \"8\", \"9\", \"10\", \"11\", \"12\", \"13\", \"14\", \"15\", \"16\", \"17\", \"18\", \"19\", \"20\", \"21\", \"22\", \"23\", \"24\", \"25\", \"26\", \"27\", \"28\", \"29\", \"30\", \"31\", \"32\"], \"mode\": \"lines\", \"name\": \"norm_macro_recall_max\", \"stepped\": true, \"type\": \"scatter\", \"data\": [0.5292712842712842, 0.5642406204906204, 0.5655898268398267, 0.5655898268398267, 0.5655898268398267, 0.6138419913419912, 0.6138419913419912, 0.6138419913419912, 0.6138419913419912, 0.6138419913419912, 0.6138419913419912, 0.6418506493506494, 0.6418506493506494, 0.6418506493506494, 0.6418506493506494, 0.6418506493506494, 0.6418506493506494, 0.6418506493506494, 0.6418506493506494, 0.6418506493506494, 0.6418506493506494, 0.6418506493506494, 0.6418506493506494, 0.6418506493506494, 0.6418506493506494, 0.6418506493506494, 0.6418506493506494, 0.6418506493506494, 0.6418506493506494, 0.6418506493506494, 0.6418506493506494, 0.6418506493506494, 0.6888816738816739]}], \"f1_score_micro\": [{\"categories\": [\"0\", \"1\", \"2\", \"3\", \"4\", \"5\", \"6\", \"7\", \"8\", \"9\", \"10\", \"11\", \"12\", \"13\", \"14\", \"15\", \"16\", \"17\", \"18\", \"19\", \"20\", \"21\", \"22\", \"23\", \"24\", \"25\", \"26\", \"27\", \"28\", \"29\", \"30\", \"31\", \"32\"], \"mode\": \"markers\", \"name\": \"f1_score_micro\", \"stepped\": false, \"type\": \"scatter\", \"data\": [0.799290780141844, 0.8243794326241133, 0.811790780141844, 0.7830673758865248, 0.5985815602836879, 0.8413120567375886, 0.7490248226950353, 0.8079787234042554, 0.611081560283688, 0.6946808510638298, 0.8036347517730495, 0.8203014184397162, 0.7450354609929077, 0.7156914893617021, 0.7281914893617021, 0.6990248226950355, 0.7534574468085106, 0.8074468085106383, 0.7745567375886525, 0.8327127659574469, 0.799113475177305, 0.8538120567375886, 0.8289007092198581, 0.799645390070922, 0.8204787234042554, 0.6697695035460993, 0.8076241134751772, 0.7908687943262411, 0.8117021276595743, 0.8204787234042554, 0.8159574468085106, 0.8203900709219859, 0.874822695035461]}, {\"categories\": [\"0\", \"1\", \"2\", \"3\", \"4\", \"5\", \"6\", \"7\", \"8\", \"9\", \"10\", \"11\", \"12\", \"13\", \"14\", \"15\", \"16\", \"17\", \"18\", \"19\", \"20\", \"21\", \"22\", \"23\", \"24\", \"25\", \"26\", \"27\", \"28\", \"29\", \"30\", \"31\", \"32\"], \"mode\": \"lines\", \"name\": \"f1_score_micro_max\", \"stepped\": true, \"type\": \"scatter\", \"data\": [0.799290780141844, 0.8243794326241133, 0.8243794326241133, 0.8243794326241133, 0.8243794326241133, 0.8413120567375886, 0.8413120567375886, 0.8413120567375886, 0.8413120567375886, 0.8413120567375886, 0.8413120567375886, 0.8413120567375886, 0.8413120567375886, 0.8413120567375886, 0.8413120567375886, 0.8413120567375886, 0.8413120567375886, 0.8413120567375886, 0.8413120567375886, 0.8413120567375886, 0.8413120567375886, 0.8538120567375886, 0.8538120567375886, 0.8538120567375886, 0.8538120567375886, 0.8538120567375886, 0.8538120567375886, 0.8538120567375886, 0.8538120567375886, 0.8538120567375886, 0.8538120567375886, 0.8538120567375886, 0.874822695035461]}], \"AUC_weighted\": [{\"categories\": [\"0\", \"1\", \"2\", \"3\", \"4\", \"5\", \"6\", \"7\", \"8\", \"9\", \"10\", \"11\", \"12\", \"13\", \"14\", \"15\", \"16\", \"17\", \"18\", \"19\", \"20\", \"21\", \"22\", \"23\", \"24\", \"25\", \"26\", \"27\", \"28\", \"29\", \"30\", \"31\", \"32\"], \"mode\": \"markers\", \"name\": \"AUC_weighted\", \"stepped\": false, \"type\": \"scatter\", \"data\": [0.8800446428571428, 0.9004091886123137, 0.8707767781986533, 0.8423249233405483, 0.4677227257696008, 0.9071861659752285, 0.8338804713804715, 0.917901222041847, 0.471750992063492, 0.7490242454304955, 0.8567459941678692, 0.9033944730038479, 0.8596636378667629, 0.8181580687830687, 0.7269447826479076, 0.703683449074074, 0.7763423671236171, 0.8484213789682539, 0.8785625225468976, 0.890383146945647, 0.833490597943723, 0.9022557983104859, 0.8812954695767197, 0.8611327937109186, 0.8694367784992785, 0.5, 0.8883196173039923, 0.8606436011904762, 0.8723825306637807, 0.8682642646705148, 0.8868518142736892, 0.892341795935546, 0.9087198998917749]}, {\"categories\": [\"0\", \"1\", \"2\", \"3\", \"4\", \"5\", \"6\", \"7\", \"8\", \"9\", \"10\", \"11\", \"12\", \"13\", \"14\", \"15\", \"16\", \"17\", \"18\", \"19\", \"20\", \"21\", \"22\", \"23\", \"24\", \"25\", \"26\", \"27\", \"28\", \"29\", \"30\", \"31\", \"32\"], \"mode\": \"lines\", \"name\": \"AUC_weighted_max\", \"stepped\": true, \"type\": \"scatter\", \"data\": [0.8800446428571428, 0.9004091886123137, 0.9004091886123137, 0.9004091886123137, 0.9004091886123137, 0.9071861659752285, 0.9071861659752285, 0.917901222041847, 0.917901222041847, 0.917901222041847, 0.917901222041847, 0.917901222041847, 0.917901222041847, 0.917901222041847, 0.917901222041847, 0.917901222041847, 0.917901222041847, 0.917901222041847, 0.917901222041847, 0.917901222041847, 0.917901222041847, 0.917901222041847, 0.917901222041847, 0.917901222041847, 0.917901222041847, 0.917901222041847, 0.917901222041847, 0.917901222041847, 0.917901222041847, 0.917901222041847, 0.917901222041847, 0.917901222041847, 0.917901222041847]}]}, \"metricName\": null, \"primaryMetricName\": \"accuracy\", \"showLegend\": false}, \"run_metrics\": [{\"name\": \"average_precision_score_micro\", \"run_id\": \"AutoML_812d7710-bc14-4391-acf7-143effb570a4\", \"categories\": [0], \"series\": [{\"data\": [0.9178066508389462]}]}, {\"name\": \"accuracy\", \"run_id\": \"AutoML_812d7710-bc14-4391-acf7-143effb570a4\", \"categories\": [0], \"series\": [{\"data\": [0.874822695035461]}]}, {\"name\": \"recall_score_weighted\", \"run_id\": \"AutoML_812d7710-bc14-4391-acf7-143effb570a4\", \"categories\": [0], \"series\": [{\"data\": [0.874822695035461]}]}, {\"name\": \"matthews_correlation\", \"run_id\": \"AutoML_812d7710-bc14-4391-acf7-143effb570a4\", \"categories\": [0], \"series\": [{\"data\": [0.7158028322082106]}]}, {\"name\": \"average_precision_score_macro\", \"run_id\": \"AutoML_812d7710-bc14-4391-acf7-143effb570a4\", \"categories\": [0], \"series\": [{\"data\": [0.8954608486944178]}]}, {\"name\": \"AUC_weighted\", \"run_id\": \"AutoML_812d7710-bc14-4391-acf7-143effb570a4\", \"categories\": [0], \"series\": [{\"data\": [0.9087198998917749]}]}, {\"name\": \"AUC_micro\", \"run_id\": \"AutoML_812d7710-bc14-4391-acf7-143effb570a4\", \"categories\": [0], \"series\": [{\"data\": [0.9150911202907299]}]}, {\"name\": \"precision_score_macro\", \"run_id\": \"AutoML_812d7710-bc14-4391-acf7-143effb570a4\", \"categories\": [0], \"series\": [{\"data\": [0.8721644042232277]}]}, {\"name\": \"recall_score_micro\", \"run_id\": \"AutoML_812d7710-bc14-4391-acf7-143effb570a4\", \"categories\": [0], \"series\": [{\"data\": [0.874822695035461]}]}, {\"name\": \"weighted_accuracy\", \"run_id\": \"AutoML_812d7710-bc14-4391-acf7-143effb570a4\", \"categories\": [0], \"series\": [{\"data\": [0.8993739374433343]}]}, {\"name\": \"f1_score_weighted\", \"run_id\": \"AutoML_812d7710-bc14-4391-acf7-143effb570a4\", \"categories\": [0], \"series\": [{\"data\": [0.8718589308820899]}]}, {\"name\": \"balanced_accuracy\", \"run_id\": \"AutoML_812d7710-bc14-4391-acf7-143effb570a4\", \"categories\": [0], \"series\": [{\"data\": [0.8444408369408369]}]}, {\"name\": \"norm_macro_recall\", \"run_id\": \"AutoML_812d7710-bc14-4391-acf7-143effb570a4\", \"categories\": [0], \"series\": [{\"data\": [0.6888816738816739]}]}, {\"name\": \"f1_score_micro\", \"run_id\": \"AutoML_812d7710-bc14-4391-acf7-143effb570a4\", \"categories\": [0], \"series\": [{\"data\": [0.874822695035461]}]}, {\"name\": \"AUC_macro\", \"run_id\": \"AutoML_812d7710-bc14-4391-acf7-143effb570a4\", \"categories\": [0], \"series\": [{\"data\": [0.9087198998917749]}]}, {\"name\": \"f1_score_macro\", \"run_id\": \"AutoML_812d7710-bc14-4391-acf7-143effb570a4\", \"categories\": [0], \"series\": [{\"data\": [0.8540131393524986]}]}, {\"name\": \"log_loss\", \"run_id\": \"AutoML_812d7710-bc14-4391-acf7-143effb570a4\", \"categories\": [0], \"series\": [{\"data\": [0.4011158476471254]}]}, {\"name\": \"precision_score_weighted\", \"run_id\": \"AutoML_812d7710-bc14-4391-acf7-143effb570a4\", \"categories\": [0], \"series\": [{\"data\": [0.8761033996249891]}]}, {\"name\": \"average_precision_score_weighted\", \"run_id\": \"AutoML_812d7710-bc14-4391-acf7-143effb570a4\", \"categories\": [0], \"series\": [{\"data\": [0.9144744036682599]}]}, {\"name\": \"precision_score_micro\", \"run_id\": \"AutoML_812d7710-bc14-4391-acf7-143effb570a4\", \"categories\": [0], \"series\": [{\"data\": [0.874822695035461]}]}, {\"name\": \"recall_score_macro\", \"run_id\": \"AutoML_812d7710-bc14-4391-acf7-143effb570a4\", \"categories\": [0], \"series\": [{\"data\": [0.8444408369408369]}]}], \"run_logs\": \"\\nRun is completed.\", \"graph\": {}, \"widget_settings\": {\"childWidgetDisplay\": \"popup\", \"send_telemetry\": false, \"log_level\": \"INFO\", \"sdk_version\": \"1.33.0\"}, \"loading\": false}"
     },
     "metadata": {},
     "output_type": "display_data"
    }
   ],
   "source": [
    "from azureml.widgets import RunDetails\n",
    "RunDetails(remote_run).show()"
   ]
  },
  {
   "cell_type": "code",
   "execution_count": 19,
   "metadata": {
    "gather": {
     "logged": 1598431425670
    },
    "jupyter": {
     "outputs_hidden": false,
     "source_hidden": false
    },
    "nteract": {
     "transient": {
      "deleting": false
     }
    }
   },
   "outputs": [
    {
     "data": {
      "text/plain": [
       "Pipeline(memory=None,\n",
       "         steps=[('datatransformer',\n",
       "                 DataTransformer(enable_dnn=False, enable_feature_sweeping=True, feature_sweeping_config={}, feature_sweeping_timeout=86400, featurization_config=None, force_text_dnn=False, is_cross_validation=True, is_onnx_compatible=False, observer=None, task='classification', working_dir='/mnt/batch/tasks/shared/LS_root/mount...\n",
       "    gpu_training_param_dict={'processing_unit_type': 'cpu'}\n",
       "), random_state=0, reg_alpha=0.8333333333333334, reg_lambda=1.1458333333333335, subsample=0.8, tree_method='auto'))], verbose=False))], flatten_transform=None, weights=[0.14285714285714285, 0.2857142857142857, 0.14285714285714285, 0.14285714285714285, 0.14285714285714285, 0.14285714285714285]))],\n",
       "         verbose=False)"
      ]
     },
     "execution_count": 19,
     "metadata": {},
     "output_type": "execute_result"
    }
   ],
   "source": [
    "best_run, best_model = remote_run.get_output()\n",
    "best_model"
   ]
  },
  {
   "cell_type": "markdown",
   "metadata": {},
   "source": [
    "## Best Model\n",
    "\n",
    "TODO: In the cell below, get the best model from the automl experiments and display all the properties of the model.\n",
    "\n"
   ]
  },
  {
   "cell_type": "code",
   "execution_count": 20,
   "metadata": {
    "gather": {
     "logged": 1598431426111
    },
    "jupyter": {
     "outputs_hidden": false,
     "source_hidden": false
    },
    "nteract": {
     "transient": {
      "deleting": false
     }
    }
   },
   "outputs": [
    {
     "data": {
      "text/html": [
       "<table style=\"width:100%\"><tr><th>Experiment</th><th>Id</th><th>Type</th><th>Status</th><th>Details Page</th><th>Docs Page</th></tr><tr><td>CapstoneProject</td><td>AutoML_812d7710-bc14-4391-acf7-143effb570a4_32</td><td></td><td>Completed</td><td><a href=\"https://ml.azure.com/runs/AutoML_812d7710-bc14-4391-acf7-143effb570a4_32?wsid=/subscriptions/aa7cf8e8-d23f-4bce-a7b9-1f0b4e0ac8ee/resourcegroups/aml-quickstarts-155764/workspaces/quick-starts-ws-155764&amp;tid=660b3398-b80e-49d2-bc5b-ac1dc93b5254\" target=\"_blank\" rel=\"noopener\">Link to Azure Machine Learning studio</a></td><td><a href=\"https://docs.microsoft.com/en-us/python/api/azureml-core/azureml.core.run.Run?view=azure-ml-py\" target=\"_blank\" rel=\"noopener\">Link to Documentation</a></td></tr></table>"
      ],
      "text/plain": [
       "Run(Experiment: CapstoneProject,\n",
       "Id: AutoML_812d7710-bc14-4391-acf7-143effb570a4_32,\n",
       "Type: None,\n",
       "Status: Completed)"
      ]
     },
     "execution_count": 20,
     "metadata": {},
     "output_type": "execute_result"
    }
   ],
   "source": [
    "#TODO: Save the best model\n",
    "best_run"
   ]
  },
  {
   "cell_type": "code",
   "execution_count": 21,
   "metadata": {},
   "outputs": [],
   "source": [
    "best_model= best_run.register_model(model_path='outputs/model.pkl',model_name='model_Automl',tags={'training context':'automl'},\n",
    "                        properties={'Accuracy':best_run.get_metrics()['accuracy']})"
   ]
  },
  {
   "cell_type": "markdown",
   "metadata": {},
   "source": [
    "## Model Deployment\n",
    "\n",
    "Remember you have to deploy only one of the two models you trained.. Perform the steps in the rest of this notebook only if you wish to deploy this model.\n",
    "\n",
    "TODO: In the cell below, register the model, create an inference config and deploy the model as a web service."
   ]
  },
  {
   "cell_type": "code",
   "execution_count": 22,
   "metadata": {},
   "outputs": [],
   "source": [
    "best_run.download_file('outputs/scoring_file_v_1_0_0.py', 'score.py')"
   ]
  },
  {
   "cell_type": "code",
   "execution_count": 23,
   "metadata": {},
   "outputs": [],
   "source": [
    "best_run.download_file('outputs/conda_env_v_1_0_0.yml', 'envFile.yml')"
   ]
  },
  {
   "cell_type": "code",
   "execution_count": 24,
   "metadata": {},
   "outputs": [
    {
     "data": {
      "text/plain": [
       "{'recall_score_macro': 0.8444408369408369,\n",
       " 'accuracy': 0.874822695035461,\n",
       " 'average_precision_score_macro': 0.8954608486944178,\n",
       " 'balanced_accuracy': 0.8444408369408369,\n",
       " 'weighted_accuracy': 0.8993739374433343,\n",
       " 'average_precision_score_micro': 0.9178066508389462,\n",
       " 'precision_score_macro': 0.8721644042232277,\n",
       " 'AUC_macro': 0.9087198998917749,\n",
       " 'log_loss': 0.4011158476471254,\n",
       " 'precision_score_weighted': 0.8761033996249891,\n",
       " 'precision_score_micro': 0.874822695035461,\n",
       " 'recall_score_weighted': 0.874822695035461,\n",
       " 'f1_score_macro': 0.8540131393524986,\n",
       " 'f1_score_weighted': 0.8718589308820899,\n",
       " 'AUC_micro': 0.9150911202907299,\n",
       " 'average_precision_score_weighted': 0.9144744036682599,\n",
       " 'recall_score_micro': 0.874822695035461,\n",
       " 'matthews_correlation': 0.7158028322082106,\n",
       " 'norm_macro_recall': 0.6888816738816739,\n",
       " 'f1_score_micro': 0.874822695035461,\n",
       " 'AUC_weighted': 0.9087198998917749,\n",
       " 'confusion_matrix': 'aml://artifactId/ExperimentRun/dcid.AutoML_812d7710-bc14-4391-acf7-143effb570a4_32/confusion_matrix',\n",
       " 'accuracy_table': 'aml://artifactId/ExperimentRun/dcid.AutoML_812d7710-bc14-4391-acf7-143effb570a4_32/accuracy_table'}"
      ]
     },
     "execution_count": 24,
     "metadata": {},
     "output_type": "execute_result"
    }
   ],
   "source": [
    "best_run.get_metrics()"
   ]
  },
  {
   "cell_type": "code",
   "execution_count": 26,
   "metadata": {},
   "outputs": [],
   "source": [
    "from azureml.core.model import InferenceConfig, Model\n",
    "from azureml.core.webservice import AciWebservice, Webservice\n",
    "\n",
    "# Register the model to deploy\n",
    "# model = run.register_model(model_name = \"heartfailuremodel\", model_path = \"heart_failure_model.pkl\")\n",
    "\n",
    "# Combine scoring script & environment in Inference configuration\n",
    "\n",
    "inference_config = InferenceConfig(entry_script='score.py', environment=env)\n",
    "# Set deployment configuration\n",
    "deployment_config = AciWebservice.deploy_configuration(cpu_cores = 1,\n",
    "                                                       memory_gb = 1,\n",
    "                                                      auth_enabled=True)\n",
    "\n",
    "# Define the model, inference, & deployment configuration and web service name and location to deploy\n",
    "service = Model.deploy(workspace = ws,\n",
    "                       name = \"webservice\",\n",
    "                       models = [best_model],\n",
    "                       inference_config = inference_config,\n",
    "                       deployment_config = deployment_config,\n",
    "                      overwrite=True)"
   ]
  },
  {
   "cell_type": "code",
   "execution_count": 32,
   "metadata": {},
   "outputs": [
    {
     "name": "stdout",
     "output_type": "stream",
     "text": [
      "{\"result\": [1, 1]}\n"
     ]
    }
   ],
   "source": [
    "import requests\n",
    "import json\n",
    "\n",
    "# URL for the web service, should be similar to:\n",
    "# 'http://8530a665-66f3-49c8-a953-b82a2d312917.eastus.azurecontainer.io/score'\n",
    "scoring_uri = \"http://1677aa14-2086-4ca7-bcf8-045a08c4e2ce.southcentralus.azurecontainer.io/score\"\n",
    "\n",
    "# If the service is authenticated, set the key or token\n",
    "key = \"7Xxr6kaBqQKQfqbTeto8LJGnmuC88MuG\"\n",
    "# Two sets of data to score, so we get two results back\n",
    "data = {\n",
    "    \"data\": [\n",
    "    \n",
    "        {\n",
    "        \"age\":75.0,\n",
    "\"anaemia\":0,\n",
    "\"creatinine_phosphokinase\": 582,\n",
    "\"diabetes\":0,\n",
    "\"ejection_fraction\":20,\n",
    "\"high_blood_pressure\":1,\n",
    "\"platelets\":265000.00,\n",
    "\"serum_creatinine\":1.9,\n",
    "\"serum_sodium\":130,\n",
    "\"sex\":1,\n",
    "\"smoking\":0,\n",
    "\"time\":4                       \n",
    "            },\n",
    "        {\n",
    "        \"age\":55.0,\n",
    "\"anaemia\":0,\n",
    "\"creatinine_phosphokinase\": 7861,\n",
    "\"diabetes\":0,\n",
    "\"ejection_fraction\":38,\n",
    "\"high_blood_pressure\":0,\n",
    "\"platelets\":263358.03,\n",
    "\"serum_creatinine\":1.1,\n",
    "\"serum_sodium\":136,\n",
    "\"sex\":1,\n",
    "\"smoking\":0,\n",
    "\"time\":6   \n",
    "        \n",
    "            },\n",
    "        ]\n",
    "    }\n",
    "\n",
    "# Convert to JSON string\n",
    "input_data = json.dumps(data)\n",
    "with open(\"data.json\", \"w\") as _f:\n",
    "    _f.write(input_data)\n",
    "\n",
    "# Set the content type\n",
    "headers = {\"Content-Type\": \"application/json\"}\n",
    "# If authentication is enabled, set the authorization header\n",
    "headers[\"Authorization\"] = f\"Bearer {key}\"\n",
    "\n",
    "# Make the request and display the response\n",
    "resp = requests.post(scoring_uri, input_data, headers=headers)\n",
    "print(resp.json())"
   ]
  },
  {
   "cell_type": "markdown",
   "metadata": {
    "collapsed": true,
    "gather": {
     "logged": 1598431657736
    },
    "jupyter": {
     "outputs_hidden": false,
     "source_hidden": false
    },
    "nteract": {
     "transient": {
      "deleting": false
     }
    }
   },
   "source": [
    "TODO: In the cell below, send a request to the web service you deployed to test it."
   ]
  },
  {
   "cell_type": "code",
   "execution_count": null,
   "metadata": {
    "gather": {
     "logged": 1598432707604
    },
    "jupyter": {
     "outputs_hidden": false,
     "source_hidden": false
    },
    "nteract": {
     "transient": {
      "deleting": false
     }
    }
   },
   "outputs": [],
   "source": []
  },
  {
   "cell_type": "markdown",
   "metadata": {
    "collapsed": true,
    "gather": {
     "logged": 1598432765711
    },
    "jupyter": {
     "outputs_hidden": false,
     "source_hidden": false
    },
    "nteract": {
     "transient": {
      "deleting": false
     }
    }
   },
   "source": [
    "TODO: In the cell below, print the logs of the web service and delete the service"
   ]
  },
  {
   "cell_type": "code",
   "execution_count": null,
   "metadata": {
    "jupyter": {
     "outputs_hidden": false,
     "source_hidden": false
    },
    "nteract": {
     "transient": {
      "deleting": false
     }
    }
   },
   "outputs": [],
   "source": []
  }
 ],
 "metadata": {
  "kernel_info": {
   "name": "python3-azureml"
  },
  "kernelspec": {
   "display_name": "Python 3",
   "language": "python",
   "name": "python3"
  },
  "language_info": {
   "codemirror_mode": {
    "name": "ipython",
    "version": 3
   },
   "file_extension": ".py",
   "mimetype": "text/x-python",
   "name": "python",
   "nbconvert_exporter": "python",
   "pygments_lexer": "ipython3",
   "version": "3.6.9"
  },
  "nteract": {
   "version": "nteract-front-end@1.0.0"
  }
 },
 "nbformat": 4,
 "nbformat_minor": 2
}
